{
 "cells": [
  {
   "cell_type": "code",
   "execution_count": 33,
   "metadata": {},
   "outputs": [
    {
     "data": {
      "text/html": [
       "<style>.container { width:100% !important; }</style>"
      ],
      "text/plain": [
       "<IPython.core.display.HTML object>"
      ]
     },
     "metadata": {},
     "output_type": "display_data"
    }
   ],
   "source": [
    "import pandas as pd\n",
    "from IPython.core.display import display, HTML\n",
    "display(HTML(\"<style>.container { width:100% !important; }</style>\"))\n",
    "pd.set_option('display.max_rows', 50)\n",
    "pd.set_option('display.max_columns', 50)\n",
    "pd.set_option('display.width', 1000)\n",
    "pd.set_option('display.max_colwidth', 300)\n",
    "pd.options.mode.chained_assignment = None  # default='warn'"
   ]
  },
  {
   "cell_type": "code",
   "execution_count": 21,
   "metadata": {},
   "outputs": [],
   "source": [
    "YEAR = '2021'"
   ]
  },
  {
   "cell_type": "code",
   "execution_count": 22,
   "metadata": {},
   "outputs": [
    {
     "ename": "FileNotFoundError",
     "evalue": "[Errno 2] No such file or directory: 'data/to_extract/database-c-find_2021_1.csv'",
     "output_type": "error",
     "traceback": [
      "\u001b[0;31m---------------------------------------------------------------------------\u001b[0m",
      "\u001b[0;31mFileNotFoundError\u001b[0m                         Traceback (most recent call last)",
      "\u001b[0;32m<ipython-input-22-474e19727870>\u001b[0m in \u001b[0;36m<module>\u001b[0;34m\u001b[0m\n\u001b[0;32m----> 1\u001b[0;31m \u001b[0mdf1\u001b[0m \u001b[0;34m=\u001b[0m \u001b[0mpd\u001b[0m\u001b[0;34m.\u001b[0m\u001b[0mread_csv\u001b[0m\u001b[0;34m(\u001b[0m\u001b[0;34m'data/to_extract/database-c-find_'\u001b[0m\u001b[0;34m+\u001b[0m\u001b[0mYEAR\u001b[0m\u001b[0;34m+\u001b[0m\u001b[0;34m'_1.csv'\u001b[0m\u001b[0;34m)\u001b[0m\u001b[0;34m\u001b[0m\u001b[0;34m\u001b[0m\u001b[0m\n\u001b[0m\u001b[1;32m      2\u001b[0m \u001b[0mdf2\u001b[0m \u001b[0;34m=\u001b[0m \u001b[0mpd\u001b[0m\u001b[0;34m.\u001b[0m\u001b[0mread_csv\u001b[0m\u001b[0;34m(\u001b[0m\u001b[0;34m'data/to_extract/database-c-find_'\u001b[0m\u001b[0;34m+\u001b[0m\u001b[0mYEAR\u001b[0m\u001b[0;34m+\u001b[0m\u001b[0;34m'_2.csv'\u001b[0m\u001b[0;34m)\u001b[0m\u001b[0;34m\u001b[0m\u001b[0;34m\u001b[0m\u001b[0m\n\u001b[1;32m      3\u001b[0m \u001b[0mdf3\u001b[0m \u001b[0;34m=\u001b[0m \u001b[0mpd\u001b[0m\u001b[0;34m.\u001b[0m\u001b[0mread_csv\u001b[0m\u001b[0;34m(\u001b[0m\u001b[0;34m'data/to_extract/database-c-find_'\u001b[0m\u001b[0;34m+\u001b[0m\u001b[0mYEAR\u001b[0m\u001b[0;34m+\u001b[0m\u001b[0;34m'_3.csv'\u001b[0m\u001b[0;34m)\u001b[0m\u001b[0;34m\u001b[0m\u001b[0;34m\u001b[0m\u001b[0m\n\u001b[1;32m      4\u001b[0m \u001b[0mdf4\u001b[0m \u001b[0;34m=\u001b[0m \u001b[0mpd\u001b[0m\u001b[0;34m.\u001b[0m\u001b[0mread_csv\u001b[0m\u001b[0;34m(\u001b[0m\u001b[0;34m'data/to_extract/database-c-find_'\u001b[0m\u001b[0;34m+\u001b[0m\u001b[0mYEAR\u001b[0m\u001b[0;34m+\u001b[0m\u001b[0;34m'_4.csv'\u001b[0m\u001b[0;34m)\u001b[0m\u001b[0;34m\u001b[0m\u001b[0;34m\u001b[0m\u001b[0m\n\u001b[1;32m      5\u001b[0m \u001b[0mdf\u001b[0m \u001b[0;34m=\u001b[0m \u001b[0mpd\u001b[0m\u001b[0;34m.\u001b[0m\u001b[0mconcat\u001b[0m\u001b[0;34m(\u001b[0m\u001b[0;34m[\u001b[0m\u001b[0mdf1\u001b[0m\u001b[0;34m,\u001b[0m\u001b[0mdf2\u001b[0m\u001b[0;34m,\u001b[0m\u001b[0mdf3\u001b[0m\u001b[0;34m,\u001b[0m\u001b[0mdf4\u001b[0m\u001b[0;34m]\u001b[0m\u001b[0;34m)\u001b[0m\u001b[0;34m\u001b[0m\u001b[0;34m\u001b[0m\u001b[0m\n",
      "\u001b[0;32m~/miniconda3/lib/python3.8/site-packages/pandas/io/parsers.py\u001b[0m in \u001b[0;36mread_csv\u001b[0;34m(filepath_or_buffer, sep, delimiter, header, names, index_col, usecols, squeeze, prefix, mangle_dupe_cols, dtype, engine, converters, true_values, false_values, skipinitialspace, skiprows, skipfooter, nrows, na_values, keep_default_na, na_filter, verbose, skip_blank_lines, parse_dates, infer_datetime_format, keep_date_col, date_parser, dayfirst, cache_dates, iterator, chunksize, compression, thousands, decimal, lineterminator, quotechar, quoting, doublequote, escapechar, comment, encoding, dialect, error_bad_lines, warn_bad_lines, delim_whitespace, low_memory, memory_map, float_precision, storage_options)\u001b[0m\n\u001b[1;32m    603\u001b[0m     \u001b[0mkwds\u001b[0m\u001b[0;34m.\u001b[0m\u001b[0mupdate\u001b[0m\u001b[0;34m(\u001b[0m\u001b[0mkwds_defaults\u001b[0m\u001b[0;34m)\u001b[0m\u001b[0;34m\u001b[0m\u001b[0;34m\u001b[0m\u001b[0m\n\u001b[1;32m    604\u001b[0m \u001b[0;34m\u001b[0m\u001b[0m\n\u001b[0;32m--> 605\u001b[0;31m     \u001b[0;32mreturn\u001b[0m \u001b[0m_read\u001b[0m\u001b[0;34m(\u001b[0m\u001b[0mfilepath_or_buffer\u001b[0m\u001b[0;34m,\u001b[0m \u001b[0mkwds\u001b[0m\u001b[0;34m)\u001b[0m\u001b[0;34m\u001b[0m\u001b[0;34m\u001b[0m\u001b[0m\n\u001b[0m\u001b[1;32m    606\u001b[0m \u001b[0;34m\u001b[0m\u001b[0m\n\u001b[1;32m    607\u001b[0m \u001b[0;34m\u001b[0m\u001b[0m\n",
      "\u001b[0;32m~/miniconda3/lib/python3.8/site-packages/pandas/io/parsers.py\u001b[0m in \u001b[0;36m_read\u001b[0;34m(filepath_or_buffer, kwds)\u001b[0m\n\u001b[1;32m    455\u001b[0m \u001b[0;34m\u001b[0m\u001b[0m\n\u001b[1;32m    456\u001b[0m     \u001b[0;31m# Create the parser.\u001b[0m\u001b[0;34m\u001b[0m\u001b[0;34m\u001b[0m\u001b[0;34m\u001b[0m\u001b[0m\n\u001b[0;32m--> 457\u001b[0;31m     \u001b[0mparser\u001b[0m \u001b[0;34m=\u001b[0m \u001b[0mTextFileReader\u001b[0m\u001b[0;34m(\u001b[0m\u001b[0mfilepath_or_buffer\u001b[0m\u001b[0;34m,\u001b[0m \u001b[0;34m**\u001b[0m\u001b[0mkwds\u001b[0m\u001b[0;34m)\u001b[0m\u001b[0;34m\u001b[0m\u001b[0;34m\u001b[0m\u001b[0m\n\u001b[0m\u001b[1;32m    458\u001b[0m \u001b[0;34m\u001b[0m\u001b[0m\n\u001b[1;32m    459\u001b[0m     \u001b[0;32mif\u001b[0m \u001b[0mchunksize\u001b[0m \u001b[0;32mor\u001b[0m \u001b[0miterator\u001b[0m\u001b[0;34m:\u001b[0m\u001b[0;34m\u001b[0m\u001b[0;34m\u001b[0m\u001b[0m\n",
      "\u001b[0;32m~/miniconda3/lib/python3.8/site-packages/pandas/io/parsers.py\u001b[0m in \u001b[0;36m__init__\u001b[0;34m(self, f, engine, **kwds)\u001b[0m\n\u001b[1;32m    812\u001b[0m             \u001b[0mself\u001b[0m\u001b[0;34m.\u001b[0m\u001b[0moptions\u001b[0m\u001b[0;34m[\u001b[0m\u001b[0;34m\"has_index_names\"\u001b[0m\u001b[0;34m]\u001b[0m \u001b[0;34m=\u001b[0m \u001b[0mkwds\u001b[0m\u001b[0;34m[\u001b[0m\u001b[0;34m\"has_index_names\"\u001b[0m\u001b[0;34m]\u001b[0m\u001b[0;34m\u001b[0m\u001b[0;34m\u001b[0m\u001b[0m\n\u001b[1;32m    813\u001b[0m \u001b[0;34m\u001b[0m\u001b[0m\n\u001b[0;32m--> 814\u001b[0;31m         \u001b[0mself\u001b[0m\u001b[0;34m.\u001b[0m\u001b[0m_engine\u001b[0m \u001b[0;34m=\u001b[0m \u001b[0mself\u001b[0m\u001b[0;34m.\u001b[0m\u001b[0m_make_engine\u001b[0m\u001b[0;34m(\u001b[0m\u001b[0mself\u001b[0m\u001b[0;34m.\u001b[0m\u001b[0mengine\u001b[0m\u001b[0;34m)\u001b[0m\u001b[0;34m\u001b[0m\u001b[0;34m\u001b[0m\u001b[0m\n\u001b[0m\u001b[1;32m    815\u001b[0m \u001b[0;34m\u001b[0m\u001b[0m\n\u001b[1;32m    816\u001b[0m     \u001b[0;32mdef\u001b[0m \u001b[0mclose\u001b[0m\u001b[0;34m(\u001b[0m\u001b[0mself\u001b[0m\u001b[0;34m)\u001b[0m\u001b[0;34m:\u001b[0m\u001b[0;34m\u001b[0m\u001b[0;34m\u001b[0m\u001b[0m\n",
      "\u001b[0;32m~/miniconda3/lib/python3.8/site-packages/pandas/io/parsers.py\u001b[0m in \u001b[0;36m_make_engine\u001b[0;34m(self, engine)\u001b[0m\n\u001b[1;32m   1043\u001b[0m             )\n\u001b[1;32m   1044\u001b[0m         \u001b[0;31m# error: Too many arguments for \"ParserBase\"\u001b[0m\u001b[0;34m\u001b[0m\u001b[0;34m\u001b[0m\u001b[0;34m\u001b[0m\u001b[0m\n\u001b[0;32m-> 1045\u001b[0;31m         \u001b[0;32mreturn\u001b[0m \u001b[0mmapping\u001b[0m\u001b[0;34m[\u001b[0m\u001b[0mengine\u001b[0m\u001b[0;34m]\u001b[0m\u001b[0;34m(\u001b[0m\u001b[0mself\u001b[0m\u001b[0;34m.\u001b[0m\u001b[0mf\u001b[0m\u001b[0;34m,\u001b[0m \u001b[0;34m**\u001b[0m\u001b[0mself\u001b[0m\u001b[0;34m.\u001b[0m\u001b[0moptions\u001b[0m\u001b[0;34m)\u001b[0m  \u001b[0;31m# type: ignore[call-arg]\u001b[0m\u001b[0;34m\u001b[0m\u001b[0;34m\u001b[0m\u001b[0m\n\u001b[0m\u001b[1;32m   1046\u001b[0m \u001b[0;34m\u001b[0m\u001b[0m\n\u001b[1;32m   1047\u001b[0m     \u001b[0;32mdef\u001b[0m \u001b[0m_failover_to_python\u001b[0m\u001b[0;34m(\u001b[0m\u001b[0mself\u001b[0m\u001b[0;34m)\u001b[0m\u001b[0;34m:\u001b[0m\u001b[0;34m\u001b[0m\u001b[0;34m\u001b[0m\u001b[0m\n",
      "\u001b[0;32m~/miniconda3/lib/python3.8/site-packages/pandas/io/parsers.py\u001b[0m in \u001b[0;36m__init__\u001b[0;34m(self, src, **kwds)\u001b[0m\n\u001b[1;32m   1860\u001b[0m \u001b[0;34m\u001b[0m\u001b[0m\n\u001b[1;32m   1861\u001b[0m         \u001b[0;31m# open handles\u001b[0m\u001b[0;34m\u001b[0m\u001b[0;34m\u001b[0m\u001b[0;34m\u001b[0m\u001b[0m\n\u001b[0;32m-> 1862\u001b[0;31m         \u001b[0mself\u001b[0m\u001b[0;34m.\u001b[0m\u001b[0m_open_handles\u001b[0m\u001b[0;34m(\u001b[0m\u001b[0msrc\u001b[0m\u001b[0;34m,\u001b[0m \u001b[0mkwds\u001b[0m\u001b[0;34m)\u001b[0m\u001b[0;34m\u001b[0m\u001b[0;34m\u001b[0m\u001b[0m\n\u001b[0m\u001b[1;32m   1863\u001b[0m         \u001b[0;32massert\u001b[0m \u001b[0mself\u001b[0m\u001b[0;34m.\u001b[0m\u001b[0mhandles\u001b[0m \u001b[0;32mis\u001b[0m \u001b[0;32mnot\u001b[0m \u001b[0;32mNone\u001b[0m\u001b[0;34m\u001b[0m\u001b[0;34m\u001b[0m\u001b[0m\n\u001b[1;32m   1864\u001b[0m         \u001b[0;32mfor\u001b[0m \u001b[0mkey\u001b[0m \u001b[0;32min\u001b[0m \u001b[0;34m(\u001b[0m\u001b[0;34m\"storage_options\"\u001b[0m\u001b[0;34m,\u001b[0m \u001b[0;34m\"encoding\"\u001b[0m\u001b[0;34m,\u001b[0m \u001b[0;34m\"memory_map\"\u001b[0m\u001b[0;34m,\u001b[0m \u001b[0;34m\"compression\"\u001b[0m\u001b[0;34m)\u001b[0m\u001b[0;34m:\u001b[0m\u001b[0;34m\u001b[0m\u001b[0;34m\u001b[0m\u001b[0m\n",
      "\u001b[0;32m~/miniconda3/lib/python3.8/site-packages/pandas/io/parsers.py\u001b[0m in \u001b[0;36m_open_handles\u001b[0;34m(self, src, kwds)\u001b[0m\n\u001b[1;32m   1355\u001b[0m         \u001b[0mLet\u001b[0m \u001b[0mthe\u001b[0m \u001b[0mreaders\u001b[0m \u001b[0mopen\u001b[0m \u001b[0mIOHanldes\u001b[0m \u001b[0mafter\u001b[0m \u001b[0mthey\u001b[0m \u001b[0mare\u001b[0m \u001b[0mdone\u001b[0m \u001b[0;32mwith\u001b[0m \u001b[0mtheir\u001b[0m \u001b[0mpotential\u001b[0m \u001b[0mraises\u001b[0m\u001b[0;34m.\u001b[0m\u001b[0;34m\u001b[0m\u001b[0;34m\u001b[0m\u001b[0m\n\u001b[1;32m   1356\u001b[0m         \"\"\"\n\u001b[0;32m-> 1357\u001b[0;31m         self.handles = get_handle(\n\u001b[0m\u001b[1;32m   1358\u001b[0m             \u001b[0msrc\u001b[0m\u001b[0;34m,\u001b[0m\u001b[0;34m\u001b[0m\u001b[0;34m\u001b[0m\u001b[0m\n\u001b[1;32m   1359\u001b[0m             \u001b[0;34m\"r\"\u001b[0m\u001b[0;34m,\u001b[0m\u001b[0;34m\u001b[0m\u001b[0;34m\u001b[0m\u001b[0m\n",
      "\u001b[0;32m~/miniconda3/lib/python3.8/site-packages/pandas/io/common.py\u001b[0m in \u001b[0;36mget_handle\u001b[0;34m(path_or_buf, mode, encoding, compression, memory_map, is_text, errors, storage_options)\u001b[0m\n\u001b[1;32m    637\u001b[0m         \u001b[0;32mif\u001b[0m \u001b[0mioargs\u001b[0m\u001b[0;34m.\u001b[0m\u001b[0mencoding\u001b[0m \u001b[0;32mand\u001b[0m \u001b[0;34m\"b\"\u001b[0m \u001b[0;32mnot\u001b[0m \u001b[0;32min\u001b[0m \u001b[0mioargs\u001b[0m\u001b[0;34m.\u001b[0m\u001b[0mmode\u001b[0m\u001b[0;34m:\u001b[0m\u001b[0;34m\u001b[0m\u001b[0;34m\u001b[0m\u001b[0m\n\u001b[1;32m    638\u001b[0m             \u001b[0;31m# Encoding\u001b[0m\u001b[0;34m\u001b[0m\u001b[0;34m\u001b[0m\u001b[0;34m\u001b[0m\u001b[0m\n\u001b[0;32m--> 639\u001b[0;31m             handle = open(\n\u001b[0m\u001b[1;32m    640\u001b[0m                 \u001b[0mhandle\u001b[0m\u001b[0;34m,\u001b[0m\u001b[0;34m\u001b[0m\u001b[0;34m\u001b[0m\u001b[0m\n\u001b[1;32m    641\u001b[0m                 \u001b[0mioargs\u001b[0m\u001b[0;34m.\u001b[0m\u001b[0mmode\u001b[0m\u001b[0;34m,\u001b[0m\u001b[0;34m\u001b[0m\u001b[0;34m\u001b[0m\u001b[0m\n",
      "\u001b[0;31mFileNotFoundError\u001b[0m: [Errno 2] No such file or directory: 'data/to_extract/database-c-find_2021_1.csv'"
     ]
    }
   ],
   "source": [
    "df1 = pd.read_csv('data/to_extract/database-c-find_'+YEAR+'_1.csv')\n",
    "df2 = pd.read_csv('data/to_extract/database-c-find_'+YEAR+'_2.csv')\n",
    "df3 = pd.read_csv('data/to_extract/database-c-find_'+YEAR+'_3.csv')\n",
    "df4 = pd.read_csv('data/to_extract/database-c-find_'+YEAR+'_4.csv')\n",
    "df = pd.concat([df1,df2,df3,df4])\n",
    "#df.to_csv('data/to_extract/database-c-find_PRODUCTION-'+YEAR+'.csv')"
   ]
  },
  {
   "cell_type": "code",
   "execution_count": null,
   "metadata": {},
   "outputs": [],
   "source": [
    "df = pd.read_csv('data/to_extract/database-c-find_PRODUCTION-'+YEAR+'.csv')\n",
    "#df['StudyDate'] = pd.to_datetime(df['StudyDate'])\n",
    "df['StudyDate'] = pd.to_datetime(df['StudyDate'], format='%Y%m%d')\n",
    "display(df.StudyDate.dt.month.value_counts())"
   ]
  },
  {
   "cell_type": "code",
   "execution_count": null,
   "metadata": {},
   "outputs": [],
   "source": [
    "#df[['PatientID','StudyInstanceUID']].to_csv('config/TO_EXTRACT/'+YEAR+'.csv')"
   ]
  },
  {
   "cell_type": "code",
   "execution_count": null,
   "metadata": {},
   "outputs": [],
   "source": [
    "#df.groupby(['PatientID','StudyDate','StudyTime']).first().to_csv('data/to_extract/CARDIO_REPORT_2020.csv')"
   ]
  },
  {
   "cell_type": "markdown",
   "metadata": {},
   "source": [
    "### Start Here"
   ]
  },
  {
   "cell_type": "code",
   "execution_count": 34,
   "metadata": {},
   "outputs": [],
   "source": [
    "YEAR = '2021'"
   ]
  },
  {
   "cell_type": "code",
   "execution_count": 35,
   "metadata": {},
   "outputs": [],
   "source": [
    "import os\n",
    "\n",
    "\n",
    "def list_files(dir):\n",
    "    r = []\n",
    "    subdirs = [x[0] for x in os.walk(dir)]\n",
    "    for subdir in subdirs:\n",
    "        files = os.walk(subdir).__next__()[2]\n",
    "        \n",
    "        if len(files) > 0:\n",
    "            for file in files:\n",
    "                r.append(os.path.join(subdir, file))\n",
    "    return r"
   ]
  },
  {
   "cell_type": "code",
   "execution_count": 36,
   "metadata": {},
   "outputs": [
    {
     "data": {
      "text/plain": [
       "141059"
      ]
     },
     "metadata": {},
     "output_type": "display_data"
    },
    {
     "data": {
      "text/plain": [
       "' files found'"
      ]
     },
     "metadata": {},
     "output_type": "display_data"
    }
   ],
   "source": [
    "r = list_files('/media/data1/ravram/DeepCORO/'+YEAR)\n",
    "display(len(r), \" files found\")\n",
    "df = pd.DataFrame(list(zip(r)),\n",
    "               columns =['path'])\n",
    "new_2 = df[\"path\"].str.split(\"/\", n=8, expand=True)\n",
    "df[\"year\"] = new_2[5]\n",
    "df[\"StudyInstanceUID\"] = new_2[7]\n",
    "df[\"patient_id_anon\"] = new_2[6]\n",
    "df[\"dicom_id\"] = new_2[8]\n",
    "\n",
    "#except:\n",
    "#    print(\"No path\")"
   ]
  },
  {
   "cell_type": "code",
   "execution_count": 37,
   "metadata": {},
   "outputs": [
    {
     "data": {
      "text/plain": [
       "'Displaying the DICOMS to extract for year %%'"
      ]
     },
     "metadata": {},
     "output_type": "display_data"
    },
    {
     "data": {
      "text/plain": [
       "'2021'"
      ]
     },
     "metadata": {},
     "output_type": "display_data"
    },
    {
     "data": {
      "text/html": [
       "<div>\n",
       "<style scoped>\n",
       "    .dataframe tbody tr th:only-of-type {\n",
       "        vertical-align: middle;\n",
       "    }\n",
       "\n",
       "    .dataframe tbody tr th {\n",
       "        vertical-align: top;\n",
       "    }\n",
       "\n",
       "    .dataframe thead th {\n",
       "        text-align: right;\n",
       "    }\n",
       "</style>\n",
       "<table border=\"1\" class=\"dataframe\">\n",
       "  <thead>\n",
       "    <tr style=\"text-align: right;\">\n",
       "      <th></th>\n",
       "      <th>PatientID</th>\n",
       "    </tr>\n",
       "  </thead>\n",
       "  <tbody>\n",
       "    <tr>\n",
       "      <th>count</th>\n",
       "      <td>123.000000</td>\n",
       "    </tr>\n",
       "    <tr>\n",
       "      <th>mean</th>\n",
       "      <td>462287.300813</td>\n",
       "    </tr>\n",
       "    <tr>\n",
       "      <th>std</th>\n",
       "      <td>163269.336213</td>\n",
       "    </tr>\n",
       "    <tr>\n",
       "      <th>min</th>\n",
       "      <td>11025.000000</td>\n",
       "    </tr>\n",
       "    <tr>\n",
       "      <th>25%</th>\n",
       "      <td>324732.000000</td>\n",
       "    </tr>\n",
       "    <tr>\n",
       "      <th>50%</th>\n",
       "      <td>548107.000000</td>\n",
       "    </tr>\n",
       "    <tr>\n",
       "      <th>75%</th>\n",
       "      <td>591272.000000</td>\n",
       "    </tr>\n",
       "    <tr>\n",
       "      <th>max</th>\n",
       "      <td>799995.000000</td>\n",
       "    </tr>\n",
       "  </tbody>\n",
       "</table>\n",
       "</div>"
      ],
      "text/plain": [
       "           PatientID\n",
       "count     123.000000\n",
       "mean   462287.300813\n",
       "std    163269.336213\n",
       "min     11025.000000\n",
       "25%    324732.000000\n",
       "50%    548107.000000\n",
       "75%    591272.000000\n",
       "max    799995.000000"
      ]
     },
     "metadata": {},
     "output_type": "display_data"
    }
   ],
   "source": [
    "display(\"Displaying the DICOMS to extract for year %%\", YEAR)\n",
    "df_to_extract = pd.read_csv('config/TO_EXTRACT/'+YEAR+'.csv')\n",
    "#display(df_to_extract.loc[df_to_extract['PatientID']==570066].head(n=5))\n",
    "display(df_to_extract.describe())"
   ]
  },
  {
   "cell_type": "code",
   "execution_count": 41,
   "metadata": {},
   "outputs": [],
   "source": [
    "#df_extracted = pd.read_csv('data/to_extract/database-c-find_PRODUCTION-2017.csv')\n",
    "#df_to_extract_2 = pd.read_csv('data/to_extract/database-c-find_PRODUCTION_2020_2.csv')\n",
    "#df_to_extract = pd.concat([df_to_extract_1, df_to_extract_2])\n",
    "#df_extracted_m = pd.merge(df_extracted, df, how='inner', on=['StudyInstanceUID'])\n",
    "#df_extracted_m.to_csv('../CathAI/data/DeepCORO/EXAMS_Extracted/2017_dicom_extracted.csv')"
   ]
  },
  {
   "cell_type": "code",
   "execution_count": 42,
   "metadata": {},
   "outputs": [
    {
     "data": {
      "text/plain": [
       "'Total files'"
      ]
     },
     "metadata": {},
     "output_type": "display_data"
    },
    {
     "data": {
      "text/plain": [
       "dcm          141056\n",
       "completed         1\n",
       "whole             1\n",
       "failed            1\n",
       "Name: FileType, dtype: int64"
      ]
     },
     "metadata": {},
     "output_type": "display_data"
    },
    {
     "data": {
      "text/html": [
       "<div>\n",
       "<style scoped>\n",
       "    .dataframe tbody tr th:only-of-type {\n",
       "        vertical-align: middle;\n",
       "    }\n",
       "\n",
       "    .dataframe tbody tr th {\n",
       "        vertical-align: top;\n",
       "    }\n",
       "\n",
       "    .dataframe thead th {\n",
       "        text-align: right;\n",
       "    }\n",
       "</style>\n",
       "<table border=\"1\" class=\"dataframe\">\n",
       "  <thead>\n",
       "    <tr style=\"text-align: right;\">\n",
       "      <th></th>\n",
       "      <th>mrn</th>\n",
       "      <th>exam_id</th>\n",
       "      <th>path</th>\n",
       "      <th>FileType</th>\n",
       "      <th>dicom_id</th>\n",
       "    </tr>\n",
       "  </thead>\n",
       "  <tbody>\n",
       "    <tr>\n",
       "      <th>0</th>\n",
       "      <td>100141617087339680314641590245863839451</td>\n",
       "      <td>2.16.840.1.113883.3.234.1.3.101.1.2.1053.2021.5920901.2</td>\n",
       "      <td>/media/data1/ravram/DeepCORO/2021/100141617087339680314641590245863839451/2.16.840.1.113883.3.234.1.3.101.1.2.1053.2021.5920901.2/2.16.840.1.113883.3.234.1.3.101.1.2.1053.2021.5920901.2.77777.dcm</td>\n",
       "      <td>dcm</td>\n",
       "      <td>2.16.840.1.113883.3.234.1.3.101.1.2.1053.2021.5920901.2.77777</td>\n",
       "    </tr>\n",
       "    <tr>\n",
       "      <th>1</th>\n",
       "      <td>100173129898864044757031908835634854696</td>\n",
       "      <td>2.16.124.113611.1.118.1.1.5790577</td>\n",
       "      <td>/media/data1/ravram/DeepCORO/2021/100173129898864044757031908835634854696/2.16.124.113611.1.118.1.1.5790577/1.2.392.200036.9116.4859.20210517145945831.1.112.dcm</td>\n",
       "      <td>dcm</td>\n",
       "      <td>1.2.392.200036.9116.4859.20210517145945831.1.112</td>\n",
       "    </tr>\n",
       "    <tr>\n",
       "      <th>2</th>\n",
       "      <td>100178611806377453478479688295608744355</td>\n",
       "      <td>1.3.46.670589.28.11411431729720210312184732794995</td>\n",
       "      <td>/media/data1/ravram/DeepCORO/2021/100178611806377453478479688295608744355/1.3.46.670589.28.11411431729720210312184732794995/1.3.46.670589.28.114114317297.2021031221045729727.3.dcm</td>\n",
       "      <td>dcm</td>\n",
       "      <td>1.3.46.670589.28.114114317297.2021031221045729727.3</td>\n",
       "    </tr>\n",
       "    <tr>\n",
       "      <th>3</th>\n",
       "      <td>100196407450277947908554130408792721913</td>\n",
       "      <td>2.16.124.113611.1.118.1.1.5799496</td>\n",
       "      <td>/media/data1/ravram/DeepCORO/2021/100196407450277947908554130408792721913/2.16.124.113611.1.118.1.1.5799496/1.3.12.2.1107.5.4.5.147598.30000021052611373995100000034.dcm</td>\n",
       "      <td>dcm</td>\n",
       "      <td>1.3.12.2.1107.5.4.5.147598.30000021052611373995100000034</td>\n",
       "    </tr>\n",
       "    <tr>\n",
       "      <th>4</th>\n",
       "      <td>100197317241274317410675080458196097822</td>\n",
       "      <td>2.16.124.113611.1.118.1.1.5677650</td>\n",
       "      <td>/media/data1/ravram/DeepCORO/2021/100197317241274317410675080458196097822/2.16.124.113611.1.118.1.1.5677650/1.3.12.2.1107.5.4.5.135214.30000020122815173402300000185.dcm</td>\n",
       "      <td>dcm</td>\n",
       "      <td>1.3.12.2.1107.5.4.5.135214.30000020122815173402300000185</td>\n",
       "    </tr>\n",
       "  </tbody>\n",
       "</table>\n",
       "</div>"
      ],
      "text/plain": [
       "                                       mrn                                                  exam_id                                                                                                                                                                                                 path FileType                                                       dicom_id\n",
       "0  100141617087339680314641590245863839451  2.16.840.1.113883.3.234.1.3.101.1.2.1053.2021.5920901.2  /media/data1/ravram/DeepCORO/2021/100141617087339680314641590245863839451/2.16.840.1.113883.3.234.1.3.101.1.2.1053.2021.5920901.2/2.16.840.1.113883.3.234.1.3.101.1.2.1053.2021.5920901.2.77777.dcm      dcm  2.16.840.1.113883.3.234.1.3.101.1.2.1053.2021.5920901.2.77777\n",
       "1  100173129898864044757031908835634854696                        2.16.124.113611.1.118.1.1.5790577                                     /media/data1/ravram/DeepCORO/2021/100173129898864044757031908835634854696/2.16.124.113611.1.118.1.1.5790577/1.2.392.200036.9116.4859.20210517145945831.1.112.dcm      dcm               1.2.392.200036.9116.4859.20210517145945831.1.112\n",
       "2  100178611806377453478479688295608744355        1.3.46.670589.28.11411431729720210312184732794995                  /media/data1/ravram/DeepCORO/2021/100178611806377453478479688295608744355/1.3.46.670589.28.11411431729720210312184732794995/1.3.46.670589.28.114114317297.2021031221045729727.3.dcm      dcm            1.3.46.670589.28.114114317297.2021031221045729727.3\n",
       "3  100196407450277947908554130408792721913                        2.16.124.113611.1.118.1.1.5799496                             /media/data1/ravram/DeepCORO/2021/100196407450277947908554130408792721913/2.16.124.113611.1.118.1.1.5799496/1.3.12.2.1107.5.4.5.147598.30000021052611373995100000034.dcm      dcm       1.3.12.2.1107.5.4.5.147598.30000021052611373995100000034\n",
       "4  100197317241274317410675080458196097822                        2.16.124.113611.1.118.1.1.5677650                             /media/data1/ravram/DeepCORO/2021/100197317241274317410675080458196097822/2.16.124.113611.1.118.1.1.5677650/1.3.12.2.1107.5.4.5.135214.30000020122815173402300000185.dcm      dcm       1.3.12.2.1107.5.4.5.135214.30000020122815173402300000185"
      ]
     },
     "metadata": {},
     "output_type": "display_data"
    }
   ],
   "source": [
    "df_extracted = pd.DataFrame({'path':r})\n",
    "df_extracted['FileType'] = df_extracted.path.apply(lambda x: x.split('.')[-1])\n",
    "display(\"Total files\", df_extracted.FileType.value_counts())\n",
    "df_extracted = df_extracted.loc[df_extracted['FileType']=='dcm']\n",
    "new_2 = df_extracted[\"path\"].str.split(\"/\", n=8, expand=True)\n",
    "df_extracted['mrn'] = new_2[6]\n",
    "df_extracted['exam_id'] = new_2[7]\n",
    "df_extracted['dicom_id'] = new_2[8].str.rstrip('.dcm')\n",
    "df_extracted_study_level = df_extracted.groupby(['mrn','exam_id']).first().reset_index()\n",
    "display(df_extracted_study_level.head(n=5))"
   ]
  },
  {
   "cell_type": "code",
   "execution_count": 43,
   "metadata": {},
   "outputs": [
    {
     "data": {
      "text/plain": [
       "257012871274156347697735973404592210538    9\n",
       "23389078990667372365950792610356311630     7\n",
       "54298432197473416668542362197360201309     7\n",
       "225570121026747532462060279198697961313    7\n",
       "72546341879166899615257779062629767140     7\n",
       "                                          ..\n",
       "312317916595163411309322979923522485444    1\n",
       "320374666138133736201638367141275927401    1\n",
       "286392981917607310978699737822831141863    1\n",
       "248153632242468289839828546048516226412    1\n",
       "5446138980753582196568318781810155545      1\n",
       "Name: mrn, Length: 7337, dtype: int64"
      ]
     },
     "metadata": {},
     "output_type": "display_data"
    },
    {
     "data": {
      "text/html": [
       "<div>\n",
       "<style scoped>\n",
       "    .dataframe tbody tr th:only-of-type {\n",
       "        vertical-align: middle;\n",
       "    }\n",
       "\n",
       "    .dataframe tbody tr th {\n",
       "        vertical-align: top;\n",
       "    }\n",
       "\n",
       "    .dataframe thead th {\n",
       "        text-align: right;\n",
       "    }\n",
       "</style>\n",
       "<table border=\"1\" class=\"dataframe\">\n",
       "  <thead>\n",
       "    <tr style=\"text-align: right;\">\n",
       "      <th></th>\n",
       "      <th>PatientID</th>\n",
       "      <th>StudyInstanceUID</th>\n",
       "    </tr>\n",
       "  </thead>\n",
       "  <tbody>\n",
       "    <tr>\n",
       "      <th>118</th>\n",
       "      <td>599306</td>\n",
       "      <td>2.16.124.113611.1.118.1.1.5978991</td>\n",
       "    </tr>\n",
       "    <tr>\n",
       "      <th>119</th>\n",
       "      <td>599364</td>\n",
       "      <td>2.16.124.113611.1.118.1.1.5979179</td>\n",
       "    </tr>\n",
       "    <tr>\n",
       "      <th>120</th>\n",
       "      <td>520484</td>\n",
       "      <td>2.16.124.113611.1.118.1.1.5979239</td>\n",
       "    </tr>\n",
       "    <tr>\n",
       "      <th>121</th>\n",
       "      <td>599408</td>\n",
       "      <td>2.16.124.113611.1.118.1.1.5979283</td>\n",
       "    </tr>\n",
       "    <tr>\n",
       "      <th>122</th>\n",
       "      <td>324536</td>\n",
       "      <td>2.16.124.113611.1.118.1.1.5993628</td>\n",
       "    </tr>\n",
       "  </tbody>\n",
       "</table>\n",
       "</div>"
      ],
      "text/plain": [
       "     PatientID                   StudyInstanceUID\n",
       "118     599306  2.16.124.113611.1.118.1.1.5978991\n",
       "119     599364  2.16.124.113611.1.118.1.1.5979179\n",
       "120     520484  2.16.124.113611.1.118.1.1.5979239\n",
       "121     599408  2.16.124.113611.1.118.1.1.5979283\n",
       "122     324536  2.16.124.113611.1.118.1.1.5993628"
      ]
     },
     "metadata": {},
     "output_type": "display_data"
    },
    {
     "data": {
      "text/html": [
       "<div>\n",
       "<style scoped>\n",
       "    .dataframe tbody tr th:only-of-type {\n",
       "        vertical-align: middle;\n",
       "    }\n",
       "\n",
       "    .dataframe tbody tr th {\n",
       "        vertical-align: top;\n",
       "    }\n",
       "\n",
       "    .dataframe thead th {\n",
       "        text-align: right;\n",
       "    }\n",
       "</style>\n",
       "<table border=\"1\" class=\"dataframe\">\n",
       "  <thead>\n",
       "    <tr style=\"text-align: right;\">\n",
       "      <th></th>\n",
       "      <th>path</th>\n",
       "      <th>FileType</th>\n",
       "      <th>mrn</th>\n",
       "      <th>exam_id</th>\n",
       "      <th>dicom_id</th>\n",
       "    </tr>\n",
       "  </thead>\n",
       "  <tbody>\n",
       "    <tr>\n",
       "      <th>141054</th>\n",
       "      <td>/media/data1/ravram/DeepCORO/2021/57512104842499975397846939886651683259/2.16.124.113611.1.118.1.1.5979239/1.3.12.2.1107.5.4.5.135214.30000021121411131593700000369.dcm</td>\n",
       "      <td>dcm</td>\n",
       "      <td>57512104842499975397846939886651683259</td>\n",
       "      <td>2.16.124.113611.1.118.1.1.5979239</td>\n",
       "      <td>1.3.12.2.1107.5.4.5.135214.30000021121411131593700000369</td>\n",
       "    </tr>\n",
       "    <tr>\n",
       "      <th>141055</th>\n",
       "      <td>/media/data1/ravram/DeepCORO/2021/57512104842499975397846939886651683259/2.16.124.113611.1.118.1.1.5979239/1.3.12.2.1107.5.4.5.135214.30000021121411131593700000375.dcm</td>\n",
       "      <td>dcm</td>\n",
       "      <td>57512104842499975397846939886651683259</td>\n",
       "      <td>2.16.124.113611.1.118.1.1.5979239</td>\n",
       "      <td>1.3.12.2.1107.5.4.5.135214.30000021121411131593700000375</td>\n",
       "    </tr>\n",
       "    <tr>\n",
       "      <th>141056</th>\n",
       "      <td>/media/data1/ravram/DeepCORO/2021/57512104842499975397846939886651683259/2.16.124.113611.1.118.1.1.5979239/1.2.276.0.7230010.3.1.3.477015473.7684.1639503020.182.dcm</td>\n",
       "      <td>dcm</td>\n",
       "      <td>57512104842499975397846939886651683259</td>\n",
       "      <td>2.16.124.113611.1.118.1.1.5979239</td>\n",
       "      <td>1.2.276.0.7230010.3.1.3.477015473.7684.1639503020.182</td>\n",
       "    </tr>\n",
       "    <tr>\n",
       "      <th>141057</th>\n",
       "      <td>/media/data1/ravram/DeepCORO/2021/57512104842499975397846939886651683259/2.16.124.113611.1.118.1.1.5979239/1.3.12.2.1107.5.4.5.135214.30000021121411131593700000385.dcm</td>\n",
       "      <td>dcm</td>\n",
       "      <td>57512104842499975397846939886651683259</td>\n",
       "      <td>2.16.124.113611.1.118.1.1.5979239</td>\n",
       "      <td>1.3.12.2.1107.5.4.5.135214.30000021121411131593700000385</td>\n",
       "    </tr>\n",
       "    <tr>\n",
       "      <th>141058</th>\n",
       "      <td>/media/data1/ravram/DeepCORO/2021/57512104842499975397846939886651683259/2.16.124.113611.1.118.1.1.5979239/1.3.12.2.1107.5.4.5.135214.30000021121411131593700000346.dcm</td>\n",
       "      <td>dcm</td>\n",
       "      <td>57512104842499975397846939886651683259</td>\n",
       "      <td>2.16.124.113611.1.118.1.1.5979239</td>\n",
       "      <td>1.3.12.2.1107.5.4.5.135214.30000021121411131593700000346</td>\n",
       "    </tr>\n",
       "  </tbody>\n",
       "</table>\n",
       "</div>"
      ],
      "text/plain": [
       "                                                                                                                                                                           path FileType                                     mrn                            exam_id                                                  dicom_id\n",
       "141054  /media/data1/ravram/DeepCORO/2021/57512104842499975397846939886651683259/2.16.124.113611.1.118.1.1.5979239/1.3.12.2.1107.5.4.5.135214.30000021121411131593700000369.dcm      dcm  57512104842499975397846939886651683259  2.16.124.113611.1.118.1.1.5979239  1.3.12.2.1107.5.4.5.135214.30000021121411131593700000369\n",
       "141055  /media/data1/ravram/DeepCORO/2021/57512104842499975397846939886651683259/2.16.124.113611.1.118.1.1.5979239/1.3.12.2.1107.5.4.5.135214.30000021121411131593700000375.dcm      dcm  57512104842499975397846939886651683259  2.16.124.113611.1.118.1.1.5979239  1.3.12.2.1107.5.4.5.135214.30000021121411131593700000375\n",
       "141056     /media/data1/ravram/DeepCORO/2021/57512104842499975397846939886651683259/2.16.124.113611.1.118.1.1.5979239/1.2.276.0.7230010.3.1.3.477015473.7684.1639503020.182.dcm      dcm  57512104842499975397846939886651683259  2.16.124.113611.1.118.1.1.5979239     1.2.276.0.7230010.3.1.3.477015473.7684.1639503020.182\n",
       "141057  /media/data1/ravram/DeepCORO/2021/57512104842499975397846939886651683259/2.16.124.113611.1.118.1.1.5979239/1.3.12.2.1107.5.4.5.135214.30000021121411131593700000385.dcm      dcm  57512104842499975397846939886651683259  2.16.124.113611.1.118.1.1.5979239  1.3.12.2.1107.5.4.5.135214.30000021121411131593700000385\n",
       "141058  /media/data1/ravram/DeepCORO/2021/57512104842499975397846939886651683259/2.16.124.113611.1.118.1.1.5979239/1.3.12.2.1107.5.4.5.135214.30000021121411131593700000346.dcm      dcm  57512104842499975397846939886651683259  2.16.124.113611.1.118.1.1.5979239  1.3.12.2.1107.5.4.5.135214.30000021121411131593700000346"
      ]
     },
     "metadata": {},
     "output_type": "display_data"
    }
   ],
   "source": [
    "display(df_extracted_study_level.mrn.value_counts())\n",
    "display(df_to_extract.tail(n=5))\n",
    "display(df_extracted.tail(n=5))"
   ]
  },
  {
   "cell_type": "code",
   "execution_count": 44,
   "metadata": {},
   "outputs": [
    {
     "data": {
      "text/plain": [
       "'To extract prior to removal of already extracted exams'"
      ]
     },
     "metadata": {},
     "output_type": "display_data"
    },
    {
     "data": {
      "text/html": [
       "<div>\n",
       "<style scoped>\n",
       "    .dataframe tbody tr th:only-of-type {\n",
       "        vertical-align: middle;\n",
       "    }\n",
       "\n",
       "    .dataframe tbody tr th {\n",
       "        vertical-align: top;\n",
       "    }\n",
       "\n",
       "    .dataframe thead th {\n",
       "        text-align: right;\n",
       "    }\n",
       "</style>\n",
       "<table border=\"1\" class=\"dataframe\">\n",
       "  <thead>\n",
       "    <tr style=\"text-align: right;\">\n",
       "      <th></th>\n",
       "      <th>PatientID</th>\n",
       "    </tr>\n",
       "  </thead>\n",
       "  <tbody>\n",
       "    <tr>\n",
       "      <th>count</th>\n",
       "      <td>123.000000</td>\n",
       "    </tr>\n",
       "    <tr>\n",
       "      <th>mean</th>\n",
       "      <td>462287.300813</td>\n",
       "    </tr>\n",
       "    <tr>\n",
       "      <th>std</th>\n",
       "      <td>163269.336213</td>\n",
       "    </tr>\n",
       "    <tr>\n",
       "      <th>min</th>\n",
       "      <td>11025.000000</td>\n",
       "    </tr>\n",
       "    <tr>\n",
       "      <th>25%</th>\n",
       "      <td>324732.000000</td>\n",
       "    </tr>\n",
       "    <tr>\n",
       "      <th>50%</th>\n",
       "      <td>548107.000000</td>\n",
       "    </tr>\n",
       "    <tr>\n",
       "      <th>75%</th>\n",
       "      <td>591272.000000</td>\n",
       "    </tr>\n",
       "    <tr>\n",
       "      <th>max</th>\n",
       "      <td>799995.000000</td>\n",
       "    </tr>\n",
       "  </tbody>\n",
       "</table>\n",
       "</div>"
      ],
      "text/plain": [
       "           PatientID\n",
       "count     123.000000\n",
       "mean   462287.300813\n",
       "std    163269.336213\n",
       "min     11025.000000\n",
       "25%    324732.000000\n",
       "50%    548107.000000\n",
       "75%    591272.000000\n",
       "max    799995.000000"
      ]
     },
     "metadata": {},
     "output_type": "display_data"
    },
    {
     "data": {
      "text/plain": [
       "'Extracted'"
      ]
     },
     "metadata": {},
     "output_type": "display_data"
    },
    {
     "data": {
      "text/html": [
       "<div>\n",
       "<style scoped>\n",
       "    .dataframe tbody tr th:only-of-type {\n",
       "        vertical-align: middle;\n",
       "    }\n",
       "\n",
       "    .dataframe tbody tr th {\n",
       "        vertical-align: top;\n",
       "    }\n",
       "\n",
       "    .dataframe thead th {\n",
       "        text-align: right;\n",
       "    }\n",
       "</style>\n",
       "<table border=\"1\" class=\"dataframe\">\n",
       "  <thead>\n",
       "    <tr style=\"text-align: right;\">\n",
       "      <th></th>\n",
       "      <th>PatientID</th>\n",
       "    </tr>\n",
       "  </thead>\n",
       "  <tbody>\n",
       "    <tr>\n",
       "      <th>count</th>\n",
       "      <td>66.00000</td>\n",
       "    </tr>\n",
       "    <tr>\n",
       "      <th>mean</th>\n",
       "      <td>466847.30303</td>\n",
       "    </tr>\n",
       "    <tr>\n",
       "      <th>std</th>\n",
       "      <td>164968.90853</td>\n",
       "    </tr>\n",
       "    <tr>\n",
       "      <th>min</th>\n",
       "      <td>11025.00000</td>\n",
       "    </tr>\n",
       "    <tr>\n",
       "      <th>25%</th>\n",
       "      <td>325843.25000</td>\n",
       "    </tr>\n",
       "    <tr>\n",
       "      <th>50%</th>\n",
       "      <td>555210.50000</td>\n",
       "    </tr>\n",
       "    <tr>\n",
       "      <th>75%</th>\n",
       "      <td>590777.50000</td>\n",
       "    </tr>\n",
       "    <tr>\n",
       "      <th>max</th>\n",
       "      <td>600311.00000</td>\n",
       "    </tr>\n",
       "  </tbody>\n",
       "</table>\n",
       "</div>"
      ],
      "text/plain": [
       "          PatientID\n",
       "count      66.00000\n",
       "mean   466847.30303\n",
       "std    164968.90853\n",
       "min     11025.00000\n",
       "25%    325843.25000\n",
       "50%    555210.50000\n",
       "75%    590777.50000\n",
       "max    600311.00000"
      ]
     },
     "metadata": {},
     "output_type": "display_data"
    },
    {
     "data": {
      "text/plain": [
       "'To be extracted'"
      ]
     },
     "metadata": {},
     "output_type": "display_data"
    },
    {
     "data": {
      "text/html": [
       "<div>\n",
       "<style scoped>\n",
       "    .dataframe tbody tr th:only-of-type {\n",
       "        vertical-align: middle;\n",
       "    }\n",
       "\n",
       "    .dataframe tbody tr th {\n",
       "        vertical-align: top;\n",
       "    }\n",
       "\n",
       "    .dataframe thead th {\n",
       "        text-align: right;\n",
       "    }\n",
       "</style>\n",
       "<table border=\"1\" class=\"dataframe\">\n",
       "  <thead>\n",
       "    <tr style=\"text-align: right;\">\n",
       "      <th></th>\n",
       "      <th>PatientID</th>\n",
       "    </tr>\n",
       "  </thead>\n",
       "  <tbody>\n",
       "    <tr>\n",
       "      <th>count</th>\n",
       "      <td>57.000000</td>\n",
       "    </tr>\n",
       "    <tr>\n",
       "      <th>mean</th>\n",
       "      <td>457007.298246</td>\n",
       "    </tr>\n",
       "    <tr>\n",
       "      <th>std</th>\n",
       "      <td>162580.710172</td>\n",
       "    </tr>\n",
       "    <tr>\n",
       "      <th>min</th>\n",
       "      <td>36341.000000</td>\n",
       "    </tr>\n",
       "    <tr>\n",
       "      <th>25%</th>\n",
       "      <td>324928.000000</td>\n",
       "    </tr>\n",
       "    <tr>\n",
       "      <th>50%</th>\n",
       "      <td>514575.000000</td>\n",
       "    </tr>\n",
       "    <tr>\n",
       "      <th>75%</th>\n",
       "      <td>591498.000000</td>\n",
       "    </tr>\n",
       "    <tr>\n",
       "      <th>max</th>\n",
       "      <td>799995.000000</td>\n",
       "    </tr>\n",
       "  </tbody>\n",
       "</table>\n",
       "</div>"
      ],
      "text/plain": [
       "           PatientID\n",
       "count      57.000000\n",
       "mean   457007.298246\n",
       "std    162580.710172\n",
       "min     36341.000000\n",
       "25%    324928.000000\n",
       "50%    514575.000000\n",
       "75%    591498.000000\n",
       "max    799995.000000"
      ]
     },
     "metadata": {},
     "output_type": "display_data"
    },
    {
     "data": {
      "text/html": [
       "<div>\n",
       "<style scoped>\n",
       "    .dataframe tbody tr th:only-of-type {\n",
       "        vertical-align: middle;\n",
       "    }\n",
       "\n",
       "    .dataframe tbody tr th {\n",
       "        vertical-align: top;\n",
       "    }\n",
       "\n",
       "    .dataframe thead th {\n",
       "        text-align: right;\n",
       "    }\n",
       "</style>\n",
       "<table border=\"1\" class=\"dataframe\">\n",
       "  <thead>\n",
       "    <tr style=\"text-align: right;\">\n",
       "      <th></th>\n",
       "      <th>PatientID</th>\n",
       "      <th>StudyInstanceUID</th>\n",
       "    </tr>\n",
       "  </thead>\n",
       "  <tbody>\n",
       "    <tr>\n",
       "      <th>2</th>\n",
       "      <td>799995</td>\n",
       "      <td>2.16.124.113611.1.118.1.1.5681024</td>\n",
       "    </tr>\n",
       "    <tr>\n",
       "      <th>3</th>\n",
       "      <td>583114</td>\n",
       "      <td>2.16.124.113611.1.118.1.1.5683643</td>\n",
       "    </tr>\n",
       "    <tr>\n",
       "      <th>4</th>\n",
       "      <td>459846</td>\n",
       "      <td>1.2.840.113711.687442.6.26120.634504188.26.2116281012.10</td>\n",
       "    </tr>\n",
       "    <tr>\n",
       "      <th>5</th>\n",
       "      <td>379859</td>\n",
       "      <td>2.16.124.113611.1.118.1.1.5683530</td>\n",
       "    </tr>\n",
       "    <tr>\n",
       "      <th>6</th>\n",
       "      <td>585288</td>\n",
       "      <td>1.2.840.113711.687442.6.11964.633623173.26.2116281012.10</td>\n",
       "    </tr>\n",
       "  </tbody>\n",
       "</table>\n",
       "</div>"
      ],
      "text/plain": [
       "   PatientID                                          StudyInstanceUID\n",
       "2     799995                         2.16.124.113611.1.118.1.1.5681024\n",
       "3     583114                         2.16.124.113611.1.118.1.1.5683643\n",
       "4     459846  1.2.840.113711.687442.6.26120.634504188.26.2116281012.10\n",
       "5     379859                         2.16.124.113611.1.118.1.1.5683530\n",
       "6     585288  1.2.840.113711.687442.6.11964.633623173.26.2116281012.10"
      ]
     },
     "metadata": {},
     "output_type": "display_data"
    }
   ],
   "source": [
    "display(\"To extract prior to removal of already extracted exams\", df_to_extract.describe())\n",
    "df_extracted = df_to_extract.loc[df_to_extract['StudyInstanceUID'].isin(df_extracted_study_level['exam_id'])]\n",
    "df_to_be_extracted = df_to_extract.loc[~df_to_extract['StudyInstanceUID'].isin(df_extracted_study_level['exam_id'])]\n",
    "\n",
    "display(\"Extracted\", df_extracted.describe())\n",
    "display(\"To be extracted\", df_to_be_extracted.describe())\n",
    "display(df_to_be_extracted.head(n=5))"
   ]
  },
  {
   "cell_type": "code",
   "execution_count": 45,
   "metadata": {},
   "outputs": [
    {
     "name": "stdout",
     "output_type": "stream",
     "text": [
      "Extracted new file for DICOM copying config/TO_EXTRACT/2021.csv\n"
     ]
    }
   ],
   "source": [
    "df_to_be_extracted = df_to_be_extracted[['PatientID','StudyInstanceUID']]\n",
    "df_to_be_extracted = df_to_be_extracted.set_index('PatientID')\n",
    "df_to_be_extracted.to_csv('config/TO_EXTRACT/'+YEAR+'.csv')\n",
    "extract_filename = 'config/TO_EXTRACT/'+YEAR+'.csv'\n",
    "print(\"Extracted new file for DICOM copying\", extract_filename)"
   ]
  },
  {
   "cell_type": "code",
   "execution_count": 46,
   "metadata": {},
   "outputs": [],
   "source": [
    "#df_to_be_extracted = pd.read_csv('config/TO_EXTRACT/'+YEAR+'.csv')\n",
    "#display(df_to_be_extracted)"
   ]
  },
  {
   "cell_type": "markdown",
   "metadata": {},
   "source": [
    "## Test Anonymization"
   ]
  },
  {
   "cell_type": "code",
   "execution_count": 1,
   "metadata": {},
   "outputs": [],
   "source": [
    "path = '/media/data1/ravram/DeepCORO/2019/267920477097029320671587129404529631902/1.3.6.1.4.1.23849.3598784133.16.1636881522360890000/1.3.6.1.4.1.23849.3340572284.16.1636881522434990000.dcm'"
   ]
  },
  {
   "cell_type": "code",
   "execution_count": 2,
   "metadata": {},
   "outputs": [],
   "source": [
    "import pydicom\n",
    "dataset = pydicom.dcmread(path)"
   ]
  },
  {
   "cell_type": "code",
   "execution_count": 3,
   "metadata": {
    "scrolled": false
   },
   "outputs": [
    {
     "data": {
      "text/plain": [
       "Dataset.file_meta -------------------------------\n",
       "(0002, 0000) File Meta Information Group Length  UL: 186\n",
       "(0002, 0001) File Meta Information Version       OB: b'\\x00\\x01'\n",
       "(0002, 0002) Media Storage SOP Class UID         UI: X-Ray Angiographic Image Storage\n",
       "(0002, 0003) Media Storage SOP Instance UID      UI: 1.3.6.1.4.1.23849.1751036954.16.1636881522434990000\n",
       "(0002, 0010) Transfer Syntax UID                 UI: Explicit VR Little Endian\n",
       "(0002, 0012) Implementation Class UID            UI: 1.2.40.0.13.1.1.1\n",
       "(0002, 0013) Implementation Version Name         SH: 'dcm4che-1.4.38'\n",
       "-------------------------------------------------\n",
       "(0008, 0005) Specific Character Set              CS: 'ISO_IR 100'\n",
       "(0008, 0008) Image Type                          CS: ['DERIVED', 'PRIMARY', 'SINGLE PLANE', 'SINGLE A', 'STORE FLUORO']\n",
       "(0008, 0016) SOP Class UID                       UI: X-Ray Angiographic Image Storage\n",
       "(0008, 0018) SOP Instance UID                    UI: 1.3.6.1.4.1.23849.1751036954.16.1636881522434990000\n",
       "(0008, 0020) Study Date                          DA: '20190313'\n",
       "(0008, 0022) Acquisition Date                    DA: '20190313'\n",
       "(0008, 0023) Content Date                        DA: '20190313'\n",
       "(0008, 0030) Study Time                          TM: '074232.000000'\n",
       "(0008, 0031) Series Time                         TM: '112507.000000'\n",
       "(0008, 0033) Content Time                        TM: ''\n",
       "(0008, 0050) Accession Number                    SH: '2063169528740355'\n",
       "(0008, 0060) Modality                            CS: 'XA'\n",
       "(0008, 0070) Manufacturer                        LO: ''\n",
       "(0008, 0090) Referring Physician's Name          PN: ''\n",
       "(0008, 1030) Study Description                   LO: 'Controle fluoroscopique Stentgraft'\n",
       "(0008, 103e) Series Description                  LO: 'FL - CTO'\n",
       "(0008, 2142) Start Trim                          IS: '1'\n",
       "(0008, 2143) Stop Trim                           IS: '107'\n",
       "(0008, 2144) Recommended Display Frame Rate      IS: '10'\n",
       "(0010, 0010) Patient's Name                      PN: '2457'\n",
       "(0010, 0020) Patient ID                          LO: '267920477097029320671587129404529631902'\n",
       "(0010, 0030) Patient's Birth Date                DA: '19390810'\n",
       "(0010, 0040) Patient's Sex                       CS: ''\n",
       "(0012, 0062) Patient Identity Removed            CS: 'YES'\n",
       "(0018, 0040) Cine Rate                           IS: '10'\n",
       "(0018, 0060) KVP                                 DS: '78.4'\n",
       "(0018, 1063) Frame Time                          DS: '100.0'\n",
       "(0018, 1110) Distance Source to Detector         DS: '1023.0'\n",
       "(0018, 1111) Distance Source to Patient          DS: '736.8030606'\n",
       "(0018, 1114) Estimated Radiographic Magnificatio DS: '1.3884307'\n",
       "(0018, 1150) Exposure Time                       IS: '866'\n",
       "(0018, 1151) X-Ray Tube Current                  IS: '98'\n",
       "(0018, 1154) Average Pulse Width                 DS: '8.1'\n",
       "(0018, 1155) Radiation Setting                   CS: 'SC'\n",
       "(0018, 115a) Radiation Mode                      CS: 'PULSED'\n",
       "(0018, 115e) Image and Fluoroscopy Area Dose Pro DS: '1.063'\n",
       "(0018, 1162) Intensifier Size                    DS: '480.0'\n",
       "(0018, 1164) Imager Pixel Spacing                DS: [0.7459375, 0.7459375]\n",
       "(0018, 1190) Focal Spot(s)                       DS: '0.6'\n",
       "(0018, 1500) Positioner Motion                   CS: 'STATIC'\n",
       "(0018, 1510) Positioner Primary Angle            DS: '29.3'\n",
       "(0018, 1511) Positioner Secondary Angle          DS: '1.3'\n",
       "(0018, 1600) Shutter Shape                       CS: 'RECTANGULAR'\n",
       "(0018, 1602) Shutter Left Vertical Edge          IS: '138'\n",
       "(0018, 1604) Shutter Right Vertical Edge         IS: '375'\n",
       "(0018, 1606) Shutter Upper Horizontal Edge       IS: '102'\n",
       "(0018, 1608) Shutter Lower Horizontal Edge       IS: '410'\n",
       "(0018, 1700) Collimator Shape                    CS: 'RECTANGULAR'\n",
       "(0018, 1702) Collimator Left Vertical Edge       IS: '137'\n",
       "(0018, 1704) Collimator Right Vertical Edge      IS: '374'\n",
       "(0018, 1706) Collimator Upper Horizontal Edge    IS: '102'\n",
       "(0018, 1708) Collimator Lower Horizontal Edge    IS: '409'\n",
       "(0018, 5100) Patient Position                    CS: 'HFS'\n",
       "(0018, 7006) Detector Description                LT: Array of 18 elements\n",
       "(0020, 000d) Study Instance UID                  UI: 1.3.6.1.4.1.23849.3598784133.16.1636881522360890000\n",
       "(0020, 000e) Series Instance UID                 UI: 1.3.6.1.4.1.23849.3340572284.16.1636881522434990000\n",
       "(0020, 0010) Study ID                            SH: ''\n",
       "(0020, 0011) Series Number                       IS: '14'\n",
       "(0020, 0012) Acquisition Number                  IS: '14'\n",
       "(0020, 0013) Instance Number                     IS: '1'\n",
       "(0020, 0020) Patient Orientation                 CS: ['L', 'F']\n",
       "(0020, 1002) Images in Acquisition               IS: '1'\n",
       "(0028, 0002) Samples per Pixel                   US: 1\n",
       "(0028, 0004) Photometric Interpretation          CS: 'MONOCHROME2'\n",
       "(0028, 0008) Number of Frames                    IS: '107'\n",
       "(0028, 0009) Frame Increment Pointer             AT: (0018, 1063)\n",
       "(0028, 0010) Rows                                US: 512\n",
       "(0028, 0011) Columns                             US: 512\n",
       "(0028, 0100) Bits Allocated                      US: 8\n",
       "(0028, 0101) Bits Stored                         US: 8\n",
       "(0028, 0102) High Bit                            US: 7\n",
       "(0028, 0103) Pixel Representation                US: 0\n",
       "(0028, 1040) Pixel Intensity Relationship        CS: 'LIN'\n",
       "(0028, 1050) Window Center                       DS: '116.0'\n",
       "(0028, 1051) Window Width                        DS: '146.0'\n",
       "(0028, 1056) VOI LUT Function                    CS: 'LINEAR'\n",
       "(0028, 2110) Lossy Image Compression             CS: '00'\n",
       "(0028, 6010) Representative Frame Number         US: 107\n",
       "(0040, 0245) Performed Procedure Step Start Time TM: '074232.423000'\n",
       "(0400, 0561)  Original Attributes Sequence  2 item(s) ---- \n",
       "   (0400, 0550)  Modified Attributes Sequence  1 item(s) ---- \n",
       "      (0008, 0080) Institution Name                    LO: 'INSTITUT DE CARDIOLOGIE'\n",
       "      ---------\n",
       "   (0400, 0562) Attribute Modification DateTime     DT: '20190314091754'\n",
       "   (0400, 0563) Modifying System                    LO: 'McKesson'\n",
       "   (0400, 0564) Source of Previous Values           LO: ''\n",
       "   (0400, 0565) Reason for the Attribute Modificati CS: 'COERCE'\n",
       "   ---------\n",
       "   (0400, 0550)  Modified Attributes Sequence  1 item(s) ---- \n",
       "      (0008, 0080) Institution Name                    LO: 'ICM - Radiologie'\n",
       "      ---------\n",
       "   (0400, 0562) Attribute Modification DateTime     DT: '20210708080803'\n",
       "   (0400, 0563) Modifying System                    LO: 'McKesson'\n",
       "   (0400, 0564) Source of Previous Values           LO: ''\n",
       "   (0400, 0565) Reason for the Attribute Modificati CS: 'COERCE'\n",
       "   ---------\n",
       "(5000, 0005) Curve Dimensions                    US: 2\n",
       "(5000, 0010) Number of Points                    US: 4440\n",
       "(5000, 0020) Type of Data                        CS: 'ECG'\n",
       "(5000, 0030) Axis Units                          SH: ['DPPS', 'NONE']\n",
       "(5000, 0103) Data Value Representation           US: 0\n",
       "(5000, 0110) Curve Data Descriptor               US: [0, 1]\n",
       "(5000, 0112) Coordinate Start Value              US: 0\n",
       "(5000, 0114) Coordinate Step Value               US: 400\n",
       "(5000, 3000) Curve Data                          OW: Array of 8880 elements\n",
       "(7fe0, 0010) Pixel Data                          OB: Array of 28049408 elements"
      ]
     },
     "metadata": {},
     "output_type": "display_data"
    }
   ],
   "source": [
    "display(dataset)"
   ]
  },
  {
   "cell_type": "code",
   "execution_count": null,
   "metadata": {},
   "outputs": [],
   "source": []
  }
 ],
 "metadata": {
  "kernelspec": {
   "display_name": "Python 3 (ipykernel)",
   "language": "python",
   "name": "python3"
  },
  "language_info": {
   "codemirror_mode": {
    "name": "ipython",
    "version": 3
   },
   "file_extension": ".py",
   "mimetype": "text/x-python",
   "name": "python",
   "nbconvert_exporter": "python",
   "pygments_lexer": "ipython3",
   "version": "3.8.15"
  }
 },
 "nbformat": 4,
 "nbformat_minor": 4
}

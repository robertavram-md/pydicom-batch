{
 "cells": [
  {
   "cell_type": "code",
   "execution_count": 2,
   "id": "5cb9a7d3",
   "metadata": {},
   "outputs": [
    {
     "name": "stderr",
     "output_type": "stream",
     "text": [
      "/tmp/ipykernel_205570/2198434195.py:8: DeprecationWarning: Importing display from IPython.core.display is deprecated since IPython 7.14, please import from IPython display\n",
      "  from IPython.core.display import display, HTML\n"
     ]
    },
    {
     "data": {
      "text/html": [
       "<style>.container { width:100% !important; }</style>"
      ],
      "text/plain": [
       "<IPython.core.display.HTML object>"
      ]
     },
     "metadata": {},
     "output_type": "display_data"
    }
   ],
   "source": [
    "import pandas as pd\n",
    "import numpy as np\n",
    "#pd.set_option('display.height', 1000)\n",
    "pd.set_option('display.max_rows', 500)\n",
    "pd.set_option('display.max_columns', 500)\n",
    "pd.set_option('display.width', 1000)\n",
    "pd.set_option('max_colwidth', 200)\n",
    "from IPython.core.display import display, HTML\n",
    "display(HTML(\"<style>.container { width:100% !important; }</style>\"))\n",
    "\n",
    "\n",
    "import os\n",
    "os.environ['R_HOME'] = '/root/miniconda3/envs/R/lib/R'\n",
    "\n",
    "import rpy2.robjects as objects\n",
    "from rpy2.robjects.packages import importr\n",
    "base = importr('base')\n",
    "r_pROC = importr(\"pROC\")\n",
    "base._libPaths()[0]\n",
    "\n",
    "def df_stats(df):\n",
    "    from tabulate import tabulate\n",
    "    print(\"\\n***** Shape: \", df.shape,\" *****\\n\")\n",
    "    \n",
    "    columns_list = df.columns.values.tolist()\n",
    "    isnull_list = df.isnull().sum().values.tolist()\n",
    "    isunique_list = df.nunique().values.tolist()\n",
    "    dtypes_list = df.dtypes.tolist()\n",
    "    \n",
    "    list_stat_val = list(zip(columns_list, isnull_list, isunique_list, dtypes_list))\n",
    "    df_stat_val = pd.DataFrame(list_stat_val, columns=['Name', 'Null', 'Unique', 'Dtypes'])\n",
    "    print(tabulate(df_stat_val, headers='keys', tablefmt='psql'))\n",
    "    return df.head()\n",
    "\n"
   ]
  },
  {
   "cell_type": "code",
   "execution_count": 3,
   "id": "9cc32b6d",
   "metadata": {},
   "outputs": [],
   "source": [
    "data = pd.read_csv('data/audit-inference-20210803-20230803.csv')"
   ]
  },
  {
   "cell_type": "code",
   "execution_count": 4,
   "id": "e848bc41",
   "metadata": {},
   "outputs": [
    {
     "data": {
      "text/html": [
       "<div>\n",
       "<style scoped>\n",
       "    .dataframe tbody tr th:only-of-type {\n",
       "        vertical-align: middle;\n",
       "    }\n",
       "\n",
       "    .dataframe tbody tr th {\n",
       "        vertical-align: top;\n",
       "    }\n",
       "\n",
       "    .dataframe thead th {\n",
       "        text-align: right;\n",
       "    }\n",
       "</style>\n",
       "<table border=\"1\" class=\"dataframe\">\n",
       "  <thead>\n",
       "    <tr style=\"text-align: right;\">\n",
       "      <th></th>\n",
       "      <th>PatientID</th>\n",
       "      <th>QueryRetrieveLevel</th>\n",
       "      <th>Status</th>\n",
       "      <th>StudyInstanceUID</th>\n",
       "    </tr>\n",
       "  </thead>\n",
       "  <tbody>\n",
       "    <tr>\n",
       "      <th>0</th>\n",
       "      <td>183774</td>\n",
       "      <td>STUDY</td>\n",
       "      <td>0x0</td>\n",
       "      <td>1.3.12.2.1107.5.4.5.135214.30000023020211373582800000022</td>\n",
       "    </tr>\n",
       "    <tr>\n",
       "      <th>1</th>\n",
       "      <td>624901</td>\n",
       "      <td>STUDY</td>\n",
       "      <td>0x0</td>\n",
       "      <td>1.3.12.2.1107.5.4.5.140409.30000023052511290500900000001</td>\n",
       "    </tr>\n",
       "    <tr>\n",
       "      <th>2</th>\n",
       "      <td>490419</td>\n",
       "      <td>STUDY</td>\n",
       "      <td>0x0</td>\n",
       "      <td>1.3.12.2.1107.5.4.5.147598.30000023070510560571700000017</td>\n",
       "    </tr>\n",
       "    <tr>\n",
       "      <th>3</th>\n",
       "      <td>615116</td>\n",
       "      <td>STUDY</td>\n",
       "      <td>0x0</td>\n",
       "      <td>1.3.46.670589.29.18771927773542520221026164809519</td>\n",
       "    </tr>\n",
       "    <tr>\n",
       "      <th>4</th>\n",
       "      <td>563528</td>\n",
       "      <td>STUDY</td>\n",
       "      <td>0x0</td>\n",
       "      <td>1.3.6.1.4.1.23849.3236648407.188.1638239820133743431</td>\n",
       "    </tr>\n",
       "  </tbody>\n",
       "</table>\n",
       "</div>"
      ],
      "text/plain": [
       "  PatientID QueryRetrieveLevel Status                                          StudyInstanceUID\n",
       "0    183774              STUDY    0x0  1.3.12.2.1107.5.4.5.135214.30000023020211373582800000022\n",
       "1    624901              STUDY    0x0  1.3.12.2.1107.5.4.5.140409.30000023052511290500900000001\n",
       "2    490419              STUDY    0x0  1.3.12.2.1107.5.4.5.147598.30000023070510560571700000017\n",
       "3    615116              STUDY    0x0         1.3.46.670589.29.18771927773542520221026164809519\n",
       "4    563528              STUDY    0x0      1.3.6.1.4.1.23849.3236648407.188.1638239820133743431"
      ]
     },
     "execution_count": 4,
     "metadata": {},
     "output_type": "execute_result"
    }
   ],
   "source": [
    "\n",
    "# Drop the unnecessary index column\n",
    "data = data.drop(columns=['Unnamed: 0'])\n",
    "\n",
    "# Groupby 'StudyInstanceUID' and keep the first 'PatientID' for each unique 'StudyInstanceUID'\n",
    "data = data.groupby('StudyInstanceUID').first().reset_index()\n",
    "\n",
    "# Add 'Status' and 'QueryRetrieveLevel' columns\n",
    "data['Status'] = '0x0'\n",
    "data['QueryRetrieveLevel'] = 'STUDY'\n",
    "\n",
    "# Reorder columns to match the desired format\n",
    "data = data[['PatientID', 'QueryRetrieveLevel', 'Status', 'StudyInstanceUID']]\n",
    "\n",
    "data.head()\n"
   ]
  },
  {
   "cell_type": "code",
   "execution_count": 5,
   "id": "6b2faa52",
   "metadata": {},
   "outputs": [],
   "source": [
    "#data.to_csv('data/audit-inference-20210803-20230803.csv')"
   ]
  },
  {
   "cell_type": "code",
   "execution_count": 6,
   "id": "8222bd49",
   "metadata": {},
   "outputs": [
    {
     "ename": "NameError",
     "evalue": "name 'df' is not defined",
     "output_type": "error",
     "traceback": [
      "\u001b[0;31m---------------------------------------------------------------------------\u001b[0m",
      "\u001b[0;31mNameError\u001b[0m                                 Traceback (most recent call last)",
      "Cell \u001b[0;32mIn[6], line 2\u001b[0m\n\u001b[1;32m      1\u001b[0m df_new \u001b[39m=\u001b[39m pd\u001b[39m.\u001b[39mDataFrame()\n\u001b[0;32m----> 2\u001b[0m df_new[\u001b[39m'\u001b[39m\u001b[39mPateintID\u001b[39m\u001b[39m'\u001b[39m] \u001b[39m=\u001b[39m df[\u001b[39m'\u001b[39m\u001b[39mPatient ID\u001b[39m\u001b[39m'\u001b[39m]\n\u001b[1;32m      3\u001b[0m \u001b[39m#df_new['QueryRetrieveLevel'] = 'SERIES'\u001b[39;00m\n\u001b[1;32m      4\u001b[0m df_new[\u001b[39m'\u001b[39m\u001b[39mStudyInstanceUID\u001b[39m\u001b[39m'\u001b[39m] \u001b[39m=\u001b[39m df[\u001b[39m'\u001b[39m\u001b[39mStudy UID\u001b[39m\u001b[39m'\u001b[39m]\n",
      "\u001b[0;31mNameError\u001b[0m: name 'df' is not defined"
     ]
    }
   ],
   "source": [
    "df_new = pd.DataFrame()\n",
    "df_new['PateintID'] = df['Patient ID']\n",
    "#df_new['QueryRetrieveLevel'] = 'SERIES'\n",
    "df_new['StudyInstanceUID'] = df['Study UID']\n",
    "df_new['SeriesInstanceUID'] = df['Series UID']\n",
    "display(df_new)\n",
    "df_new.to_csv('data/audit-inference-20210803-20230803.csv')"
   ]
  },
  {
   "cell_type": "code",
   "execution_count": 7,
   "id": "96f1034b",
   "metadata": {},
   "outputs": [
    {
     "data": {
      "text/plain": [
       "9411"
      ]
     },
     "metadata": {},
     "output_type": "display_data"
    },
    {
     "data": {
      "image/png": "[encoded data removed]",
      "text/plain": [
       "<Figure size 1000x600 with 1 Axes>"
      ]
     },
     "metadata": {},
     "output_type": "display_data"
    }
   ],
   "source": [
    "#2022 angiogram c-find\n",
    "df_xa = pd.read_csv('data/database-c-find_TTE2022_20220101-20221231.XA2.csv')\n",
    "df_xa['StudyDate'] = pd.to_datetime(df_xa['StudyDate'], format='%Y%m%d')\n",
    "display(df_xa.StudyInstanceUID.nunique())\n",
    "import seaborn as sns\n",
    "import pandas as pd\n",
    "import matplotlib.pyplot as plt\n",
    "\n",
    "# Assuming df_xa is your DataFrame with 'StudyDate'\n",
    "# Adding a column to represent the month\n",
    "df_xa['Month'] = df_xa['StudyDate'].dt.month\n",
    "\n",
    "# Grouping by month and counting the number of ExamIDs\n",
    "monthly_counts = df_xa.groupby('Month').size().reset_index(name='Number of ExamIDs')\n",
    "\n",
    "# Plotting the data using Seaborn\n",
    "plt.figure(figsize=(10, 6))\n",
    "sns.barplot(x='Month', y='Number of ExamIDs', data=monthly_counts)\n",
    "plt.title('Number of ExamIDs per Month for 2022')\n",
    "plt.xlabel('Month')\n",
    "plt.ylabel('Number of ExamIDs')\n",
    "plt.show()\n"
   ]
  },
  {
   "cell_type": "markdown",
   "id": "4f3a1f97",
   "metadata": {},
   "source": [
    "## Analysis C-Find"
   ]
  },
  {
   "cell_type": "code",
   "execution_count": 8,
   "id": "7378267b",
   "metadata": {},
   "outputs": [
    {
     "ename": "FileNotFoundError",
     "evalue": "[Errno 2] No such file or directory: 'data/databse-c-find-CathEF.csv'",
     "output_type": "error",
     "traceback": [
      "\u001b[0;31m---------------------------------------------------------------------------\u001b[0m",
      "\u001b[0;31mFileNotFoundError\u001b[0m                         Traceback (most recent call last)",
      "Cell \u001b[0;32mIn[8], line 1\u001b[0m\n\u001b[0;32m----> 1\u001b[0m df \u001b[39m=\u001b[39m pd\u001b[39m.\u001b[39;49mread_csv(\u001b[39m'\u001b[39;49m\u001b[39mdata/databse-c-find-CathEF.csv\u001b[39;49m\u001b[39m'\u001b[39;49m)\n",
      "File \u001b[0;32m~/miniconda3/lib/python3.8/site-packages/pandas/util/_decorators.py:211\u001b[0m, in \u001b[0;36mdeprecate_kwarg.<locals>._deprecate_kwarg.<locals>.wrapper\u001b[0;34m(*args, **kwargs)\u001b[0m\n\u001b[1;32m    209\u001b[0m     \u001b[39melse\u001b[39;00m:\n\u001b[1;32m    210\u001b[0m         kwargs[new_arg_name] \u001b[39m=\u001b[39m new_arg_value\n\u001b[0;32m--> 211\u001b[0m \u001b[39mreturn\u001b[39;00m func(\u001b[39m*\u001b[39;49margs, \u001b[39m*\u001b[39;49m\u001b[39m*\u001b[39;49mkwargs)\n",
      "File \u001b[0;32m~/miniconda3/lib/python3.8/site-packages/pandas/util/_decorators.py:331\u001b[0m, in \u001b[0;36mdeprecate_nonkeyword_arguments.<locals>.decorate.<locals>.wrapper\u001b[0;34m(*args, **kwargs)\u001b[0m\n\u001b[1;32m    325\u001b[0m \u001b[39mif\u001b[39;00m \u001b[39mlen\u001b[39m(args) \u001b[39m>\u001b[39m num_allow_args:\n\u001b[1;32m    326\u001b[0m     warnings\u001b[39m.\u001b[39mwarn(\n\u001b[1;32m    327\u001b[0m         msg\u001b[39m.\u001b[39mformat(arguments\u001b[39m=\u001b[39m_format_argument_list(allow_args)),\n\u001b[1;32m    328\u001b[0m         \u001b[39mFutureWarning\u001b[39;00m,\n\u001b[1;32m    329\u001b[0m         stacklevel\u001b[39m=\u001b[39mfind_stack_level(),\n\u001b[1;32m    330\u001b[0m     )\n\u001b[0;32m--> 331\u001b[0m \u001b[39mreturn\u001b[39;00m func(\u001b[39m*\u001b[39;49margs, \u001b[39m*\u001b[39;49m\u001b[39m*\u001b[39;49mkwargs)\n",
      "File \u001b[0;32m~/miniconda3/lib/python3.8/site-packages/pandas/io/parsers/readers.py:950\u001b[0m, in \u001b[0;36mread_csv\u001b[0;34m(filepath_or_buffer, sep, delimiter, header, names, index_col, usecols, squeeze, prefix, mangle_dupe_cols, dtype, engine, converters, true_values, false_values, skipinitialspace, skiprows, skipfooter, nrows, na_values, keep_default_na, na_filter, verbose, skip_blank_lines, parse_dates, infer_datetime_format, keep_date_col, date_parser, dayfirst, cache_dates, iterator, chunksize, compression, thousands, decimal, lineterminator, quotechar, quoting, doublequote, escapechar, comment, encoding, encoding_errors, dialect, error_bad_lines, warn_bad_lines, on_bad_lines, delim_whitespace, low_memory, memory_map, float_precision, storage_options)\u001b[0m\n\u001b[1;32m    935\u001b[0m kwds_defaults \u001b[39m=\u001b[39m _refine_defaults_read(\n\u001b[1;32m    936\u001b[0m     dialect,\n\u001b[1;32m    937\u001b[0m     delimiter,\n\u001b[0;32m   (...)\u001b[0m\n\u001b[1;32m    946\u001b[0m     defaults\u001b[39m=\u001b[39m{\u001b[39m\"\u001b[39m\u001b[39mdelimiter\u001b[39m\u001b[39m\"\u001b[39m: \u001b[39m\"\u001b[39m\u001b[39m,\u001b[39m\u001b[39m\"\u001b[39m},\n\u001b[1;32m    947\u001b[0m )\n\u001b[1;32m    948\u001b[0m kwds\u001b[39m.\u001b[39mupdate(kwds_defaults)\n\u001b[0;32m--> 950\u001b[0m \u001b[39mreturn\u001b[39;00m _read(filepath_or_buffer, kwds)\n",
      "File \u001b[0;32m~/miniconda3/lib/python3.8/site-packages/pandas/io/parsers/readers.py:605\u001b[0m, in \u001b[0;36m_read\u001b[0;34m(filepath_or_buffer, kwds)\u001b[0m\n\u001b[1;32m    602\u001b[0m _validate_names(kwds\u001b[39m.\u001b[39mget(\u001b[39m\"\u001b[39m\u001b[39mnames\u001b[39m\u001b[39m\"\u001b[39m, \u001b[39mNone\u001b[39;00m))\n\u001b[1;32m    604\u001b[0m \u001b[39m# Create the parser.\u001b[39;00m\n\u001b[0;32m--> 605\u001b[0m parser \u001b[39m=\u001b[39m TextFileReader(filepath_or_buffer, \u001b[39m*\u001b[39;49m\u001b[39m*\u001b[39;49mkwds)\n\u001b[1;32m    607\u001b[0m \u001b[39mif\u001b[39;00m chunksize \u001b[39mor\u001b[39;00m iterator:\n\u001b[1;32m    608\u001b[0m     \u001b[39mreturn\u001b[39;00m parser\n",
      "File \u001b[0;32m~/miniconda3/lib/python3.8/site-packages/pandas/io/parsers/readers.py:1442\u001b[0m, in \u001b[0;36mTextFileReader.__init__\u001b[0;34m(self, f, engine, **kwds)\u001b[0m\n\u001b[1;32m   1439\u001b[0m     \u001b[39mself\u001b[39m\u001b[39m.\u001b[39moptions[\u001b[39m\"\u001b[39m\u001b[39mhas_index_names\u001b[39m\u001b[39m\"\u001b[39m] \u001b[39m=\u001b[39m kwds[\u001b[39m\"\u001b[39m\u001b[39mhas_index_names\u001b[39m\u001b[39m\"\u001b[39m]\n\u001b[1;32m   1441\u001b[0m \u001b[39mself\u001b[39m\u001b[39m.\u001b[39mhandles: IOHandles \u001b[39m|\u001b[39m \u001b[39mNone\u001b[39;00m \u001b[39m=\u001b[39m \u001b[39mNone\u001b[39;00m\n\u001b[0;32m-> 1442\u001b[0m \u001b[39mself\u001b[39m\u001b[39m.\u001b[39m_engine \u001b[39m=\u001b[39m \u001b[39mself\u001b[39;49m\u001b[39m.\u001b[39;49m_make_engine(f, \u001b[39mself\u001b[39;49m\u001b[39m.\u001b[39;49mengine)\n",
      "File \u001b[0;32m~/miniconda3/lib/python3.8/site-packages/pandas/io/parsers/readers.py:1735\u001b[0m, in \u001b[0;36mTextFileReader._make_engine\u001b[0;34m(self, f, engine)\u001b[0m\n\u001b[1;32m   1733\u001b[0m     \u001b[39mif\u001b[39;00m \u001b[39m\"\u001b[39m\u001b[39mb\u001b[39m\u001b[39m\"\u001b[39m \u001b[39mnot\u001b[39;00m \u001b[39min\u001b[39;00m mode:\n\u001b[1;32m   1734\u001b[0m         mode \u001b[39m+\u001b[39m\u001b[39m=\u001b[39m \u001b[39m\"\u001b[39m\u001b[39mb\u001b[39m\u001b[39m\"\u001b[39m\n\u001b[0;32m-> 1735\u001b[0m \u001b[39mself\u001b[39m\u001b[39m.\u001b[39mhandles \u001b[39m=\u001b[39m get_handle(\n\u001b[1;32m   1736\u001b[0m     f,\n\u001b[1;32m   1737\u001b[0m     mode,\n\u001b[1;32m   1738\u001b[0m     encoding\u001b[39m=\u001b[39;49m\u001b[39mself\u001b[39;49m\u001b[39m.\u001b[39;49moptions\u001b[39m.\u001b[39;49mget(\u001b[39m\"\u001b[39;49m\u001b[39mencoding\u001b[39;49m\u001b[39m\"\u001b[39;49m, \u001b[39mNone\u001b[39;49;00m),\n\u001b[1;32m   1739\u001b[0m     compression\u001b[39m=\u001b[39;49m\u001b[39mself\u001b[39;49m\u001b[39m.\u001b[39;49moptions\u001b[39m.\u001b[39;49mget(\u001b[39m\"\u001b[39;49m\u001b[39mcompression\u001b[39;49m\u001b[39m\"\u001b[39;49m, \u001b[39mNone\u001b[39;49;00m),\n\u001b[1;32m   1740\u001b[0m     memory_map\u001b[39m=\u001b[39;49m\u001b[39mself\u001b[39;49m\u001b[39m.\u001b[39;49moptions\u001b[39m.\u001b[39;49mget(\u001b[39m\"\u001b[39;49m\u001b[39mmemory_map\u001b[39;49m\u001b[39m\"\u001b[39;49m, \u001b[39mFalse\u001b[39;49;00m),\n\u001b[1;32m   1741\u001b[0m     is_text\u001b[39m=\u001b[39;49mis_text,\n\u001b[1;32m   1742\u001b[0m     errors\u001b[39m=\u001b[39;49m\u001b[39mself\u001b[39;49m\u001b[39m.\u001b[39;49moptions\u001b[39m.\u001b[39;49mget(\u001b[39m\"\u001b[39;49m\u001b[39mencoding_errors\u001b[39;49m\u001b[39m\"\u001b[39;49m, \u001b[39m\"\u001b[39;49m\u001b[39mstrict\u001b[39;49m\u001b[39m\"\u001b[39;49m),\n\u001b[1;32m   1743\u001b[0m     storage_options\u001b[39m=\u001b[39;49m\u001b[39mself\u001b[39;49m\u001b[39m.\u001b[39;49moptions\u001b[39m.\u001b[39;49mget(\u001b[39m\"\u001b[39;49m\u001b[39mstorage_options\u001b[39;49m\u001b[39m\"\u001b[39;49m, \u001b[39mNone\u001b[39;49;00m),\n\u001b[1;32m   1744\u001b[0m )\n\u001b[1;32m   1745\u001b[0m \u001b[39massert\u001b[39;00m \u001b[39mself\u001b[39m\u001b[39m.\u001b[39mhandles \u001b[39mis\u001b[39;00m \u001b[39mnot\u001b[39;00m \u001b[39mNone\u001b[39;00m\n\u001b[1;32m   1746\u001b[0m f \u001b[39m=\u001b[39m \u001b[39mself\u001b[39m\u001b[39m.\u001b[39mhandles\u001b[39m.\u001b[39mhandle\n",
      "File \u001b[0;32m~/miniconda3/lib/python3.8/site-packages/pandas/io/common.py:856\u001b[0m, in \u001b[0;36mget_handle\u001b[0;34m(path_or_buf, mode, encoding, compression, memory_map, is_text, errors, storage_options)\u001b[0m\n\u001b[1;32m    851\u001b[0m \u001b[39melif\u001b[39;00m \u001b[39misinstance\u001b[39m(handle, \u001b[39mstr\u001b[39m):\n\u001b[1;32m    852\u001b[0m     \u001b[39m# Check whether the filename is to be opened in binary mode.\u001b[39;00m\n\u001b[1;32m    853\u001b[0m     \u001b[39m# Binary mode does not support 'encoding' and 'newline'.\u001b[39;00m\n\u001b[1;32m    854\u001b[0m     \u001b[39mif\u001b[39;00m ioargs\u001b[39m.\u001b[39mencoding \u001b[39mand\u001b[39;00m \u001b[39m\"\u001b[39m\u001b[39mb\u001b[39m\u001b[39m\"\u001b[39m \u001b[39mnot\u001b[39;00m \u001b[39min\u001b[39;00m ioargs\u001b[39m.\u001b[39mmode:\n\u001b[1;32m    855\u001b[0m         \u001b[39m# Encoding\u001b[39;00m\n\u001b[0;32m--> 856\u001b[0m         handle \u001b[39m=\u001b[39m \u001b[39mopen\u001b[39;49m(\n\u001b[1;32m    857\u001b[0m             handle,\n\u001b[1;32m    858\u001b[0m             ioargs\u001b[39m.\u001b[39;49mmode,\n\u001b[1;32m    859\u001b[0m             encoding\u001b[39m=\u001b[39;49mioargs\u001b[39m.\u001b[39;49mencoding,\n\u001b[1;32m    860\u001b[0m             errors\u001b[39m=\u001b[39;49merrors,\n\u001b[1;32m    861\u001b[0m             newline\u001b[39m=\u001b[39;49m\u001b[39m\"\u001b[39;49m\u001b[39m\"\u001b[39;49m,\n\u001b[1;32m    862\u001b[0m         )\n\u001b[1;32m    863\u001b[0m     \u001b[39melse\u001b[39;00m:\n\u001b[1;32m    864\u001b[0m         \u001b[39m# Binary mode\u001b[39;00m\n\u001b[1;32m    865\u001b[0m         handle \u001b[39m=\u001b[39m \u001b[39mopen\u001b[39m(handle, ioargs\u001b[39m.\u001b[39mmode)\n",
      "\u001b[0;31mFileNotFoundError\u001b[0m: [Errno 2] No such file or directory: 'data/databse-c-find-CathEF.csv'"
     ]
    }
   ],
   "source": [
    "df = pd.read_csv('data/databse-c-find-CathEF.csv')"
   ]
  },
  {
   "cell_type": "code",
   "execution_count": 9,
   "id": "c2b3b285",
   "metadata": {},
   "outputs": [
    {
     "ename": "NameError",
     "evalue": "name 'df' is not defined",
     "output_type": "error",
     "traceback": [
      "\u001b[0;31m---------------------------------------------------------------------------\u001b[0m",
      "\u001b[0;31mNameError\u001b[0m                                 Traceback (most recent call last)",
      "Cell \u001b[0;32mIn[9], line 1\u001b[0m\n\u001b[0;32m----> 1\u001b[0m df_stats(df)\n",
      "\u001b[0;31mNameError\u001b[0m: name 'df' is not defined"
     ]
    }
   ],
   "source": [
    "df_stats(df)"
   ]
  },
  {
   "cell_type": "markdown",
   "id": "016fd198",
   "metadata": {},
   "source": [
    "## Check extraction"
   ]
  },
  {
   "cell_type": "code",
   "execution_count": 10,
   "id": "0b36e328",
   "metadata": {},
   "outputs": [],
   "source": [
    "df_cathef = pd.read_csv('data/audit-inference-20210803-20230803_extract.csv')"
   ]
  },
  {
   "cell_type": "code",
   "execution_count": 11,
   "id": "035ee8c4",
   "metadata": {},
   "outputs": [
    {
     "name": "stdout",
     "output_type": "stream",
     "text": [
      "\n",
      "***** Shape:  (281, 4)  *****\n",
      "\n",
      "+----+--------------------+--------+----------+----------+\n",
      "|    | Name               |   Null |   Unique | Dtypes   |\n",
      "|----+--------------------+--------+----------+----------|\n",
      "|  0 | PatientID          |      0 |      208 | object   |\n",
      "|  1 | QueryRetrieveLevel |      0 |        1 | object   |\n",
      "|  2 | Status             |      0 |        3 | object   |\n",
      "|  3 | StudyInstanceUID   |      0 |      213 | object   |\n",
      "+----+--------------------+--------+----------+----------+\n"
     ]
    },
    {
     "data": {
      "text/html": [
       "<div>\n",
       "<style scoped>\n",
       "    .dataframe tbody tr th:only-of-type {\n",
       "        vertical-align: middle;\n",
       "    }\n",
       "\n",
       "    .dataframe tbody tr th {\n",
       "        vertical-align: top;\n",
       "    }\n",
       "\n",
       "    .dataframe thead th {\n",
       "        text-align: right;\n",
       "    }\n",
       "</style>\n",
       "<table border=\"1\" class=\"dataframe\">\n",
       "  <thead>\n",
       "    <tr style=\"text-align: right;\">\n",
       "      <th></th>\n",
       "      <th>PatientID</th>\n",
       "      <th>QueryRetrieveLevel</th>\n",
       "      <th>Status</th>\n",
       "      <th>StudyInstanceUID</th>\n",
       "    </tr>\n",
       "  </thead>\n",
       "  <tbody>\n",
       "    <tr>\n",
       "      <th>0</th>\n",
       "      <td>611607</td>\n",
       "      <td>STUDY</td>\n",
       "      <td>0xb000</td>\n",
       "      <td>2.16.124.113611.1.118.1.1.6216937</td>\n",
       "    </tr>\n",
       "    <tr>\n",
       "      <th>1</th>\n",
       "      <td>338446</td>\n",
       "      <td>STUDY</td>\n",
       "      <td>0xb000</td>\n",
       "      <td>2.16.124.113611.1.118.1.1.6197718</td>\n",
       "    </tr>\n",
       "    <tr>\n",
       "      <th>2</th>\n",
       "      <td>627793</td>\n",
       "      <td>STUDY</td>\n",
       "      <td>0xb000</td>\n",
       "      <td>2.16.124.113611.1.118.1.1.6537060</td>\n",
       "    </tr>\n",
       "    <tr>\n",
       "      <th>3</th>\n",
       "      <td>183774</td>\n",
       "      <td>STUDY</td>\n",
       "      <td>0xb000</td>\n",
       "      <td>1.3.12.2.1107.5.4.5.135214.30000023020211373582800000022</td>\n",
       "    </tr>\n",
       "    <tr>\n",
       "      <th>4</th>\n",
       "      <td>611607</td>\n",
       "      <td>STUDY</td>\n",
       "      <td>0x0</td>\n",
       "      <td>2.16.124.113611.1.118.1.1.6216937</td>\n",
       "    </tr>\n",
       "  </tbody>\n",
       "</table>\n",
       "</div>"
      ],
      "text/plain": [
       "  PatientID QueryRetrieveLevel  Status                                          StudyInstanceUID\n",
       "0    611607              STUDY  0xb000                         2.16.124.113611.1.118.1.1.6216937\n",
       "1    338446              STUDY  0xb000                         2.16.124.113611.1.118.1.1.6197718\n",
       "2    627793              STUDY  0xb000                         2.16.124.113611.1.118.1.1.6537060\n",
       "3    183774              STUDY  0xb000  1.3.12.2.1107.5.4.5.135214.30000023020211373582800000022\n",
       "4    611607              STUDY     0x0                         2.16.124.113611.1.118.1.1.6216937"
      ]
     },
     "metadata": {},
     "output_type": "display_data"
    }
   ],
   "source": [
    "display(df_stats(df_cathef))"
   ]
  },
  {
   "cell_type": "code",
   "execution_count": 12,
   "id": "418afe5c",
   "metadata": {},
   "outputs": [
    {
     "name": "stdout",
     "output_type": "stream",
     "text": [
      "\n",
      "***** Shape:  (219, 5)  *****\n",
      "\n",
      "+----+--------------------+--------+----------+----------+\n",
      "|    | Name               |   Null |   Unique | Dtypes   |\n",
      "|----+--------------------+--------+----------+----------|\n",
      "|  0 | Unnamed: 0         |      0 |      219 | int64    |\n",
      "|  1 | PatientID          |      0 |      214 | object   |\n",
      "|  2 | QueryRetrieveLevel |      0 |        1 | object   |\n",
      "|  3 | Status             |      0 |        1 | object   |\n",
      "|  4 | StudyInstanceUID   |      0 |      219 | object   |\n",
      "+----+--------------------+--------+----------+----------+\n"
     ]
    },
    {
     "data": {
      "text/html": [
       "<div>\n",
       "<style scoped>\n",
       "    .dataframe tbody tr th:only-of-type {\n",
       "        vertical-align: middle;\n",
       "    }\n",
       "\n",
       "    .dataframe tbody tr th {\n",
       "        vertical-align: top;\n",
       "    }\n",
       "\n",
       "    .dataframe thead th {\n",
       "        text-align: right;\n",
       "    }\n",
       "</style>\n",
       "<table border=\"1\" class=\"dataframe\">\n",
       "  <thead>\n",
       "    <tr style=\"text-align: right;\">\n",
       "      <th></th>\n",
       "      <th>Unnamed: 0</th>\n",
       "      <th>PatientID</th>\n",
       "      <th>QueryRetrieveLevel</th>\n",
       "      <th>Status</th>\n",
       "      <th>StudyInstanceUID</th>\n",
       "    </tr>\n",
       "  </thead>\n",
       "  <tbody>\n",
       "    <tr>\n",
       "      <th>0</th>\n",
       "      <td>0</td>\n",
       "      <td>183774</td>\n",
       "      <td>STUDY</td>\n",
       "      <td>0x0</td>\n",
       "      <td>1.3.12.2.1107.5.4.5.135214.30000023020211373582800000022</td>\n",
       "    </tr>\n",
       "    <tr>\n",
       "      <th>1</th>\n",
       "      <td>1</td>\n",
       "      <td>624901</td>\n",
       "      <td>STUDY</td>\n",
       "      <td>0x0</td>\n",
       "      <td>1.3.12.2.1107.5.4.5.140409.30000023052511290500900000001</td>\n",
       "    </tr>\n",
       "    <tr>\n",
       "      <th>2</th>\n",
       "      <td>2</td>\n",
       "      <td>490419</td>\n",
       "      <td>STUDY</td>\n",
       "      <td>0x0</td>\n",
       "      <td>1.3.12.2.1107.5.4.5.147598.30000023070510560571700000017</td>\n",
       "    </tr>\n",
       "    <tr>\n",
       "      <th>3</th>\n",
       "      <td>3</td>\n",
       "      <td>615116</td>\n",
       "      <td>STUDY</td>\n",
       "      <td>0x0</td>\n",
       "      <td>1.3.46.670589.29.18771927773542520221026164809519</td>\n",
       "    </tr>\n",
       "    <tr>\n",
       "      <th>4</th>\n",
       "      <td>4</td>\n",
       "      <td>563528</td>\n",
       "      <td>STUDY</td>\n",
       "      <td>0x0</td>\n",
       "      <td>1.3.6.1.4.1.23849.3236648407.188.1638239820133743431</td>\n",
       "    </tr>\n",
       "  </tbody>\n",
       "</table>\n",
       "</div>"
      ],
      "text/plain": [
       "   Unnamed: 0 PatientID QueryRetrieveLevel Status                                          StudyInstanceUID\n",
       "0           0    183774              STUDY    0x0  1.3.12.2.1107.5.4.5.135214.30000023020211373582800000022\n",
       "1           1    624901              STUDY    0x0  1.3.12.2.1107.5.4.5.140409.30000023052511290500900000001\n",
       "2           2    490419              STUDY    0x0  1.3.12.2.1107.5.4.5.147598.30000023070510560571700000017\n",
       "3           3    615116              STUDY    0x0         1.3.46.670589.29.18771927773542520221026164809519\n",
       "4           4    563528              STUDY    0x0      1.3.6.1.4.1.23849.3236648407.188.1638239820133743431"
      ]
     },
     "metadata": {},
     "output_type": "display_data"
    }
   ],
   "source": [
    "data = pd.read_csv('data/audit-inference-20210803-20230803.csv')\n",
    "display(df_stats(data))"
   ]
  },
  {
   "cell_type": "code",
   "execution_count": 22,
   "id": "98a529e3",
   "metadata": {},
   "outputs": [],
   "source": [
    "from tqdm import tqdm\n",
    "import os\n",
    "import pydicom\n",
    "import pandas as pd\n",
    "\n",
    "def scan_dicoms_and_append_to_dataframe(root_folder, output_folder='.'):\n",
    "    # Creating a list to hold DICOM information\n",
    "    dicom_list = []\n",
    "\n",
    "    # Gathering all the DICOM files first to have an accurate progress bar\n",
    "    dicom_files = [os.path.join(subdir, file) for subdir, _, files in os.walk(root_folder) for file in files if file.endswith('.dcm')]\n",
    "    print(len(dicom_files))\n",
    "    # Iterating through the DICOM files with a progress bar\n",
    "    for file_path in tqdm(dicom_files, desc='Scanning DICOMs'):\n",
    "        # Reading the DICOM file\n",
    "        dicom_data = pydicom.dcmread(file_path)\n",
    "\n",
    "        # Extracting PatientID and StudyInstanceUID\n",
    "        patient_id = dicom_data.PatientID\n",
    "        study_instance_uid = dicom_data.StudyInstanceUID\n",
    "\n",
    "        # Appending the information to the list\n",
    "        dicom_list.append({\n",
    "            'PatientID': patient_id,\n",
    "            'StudyInstanceUID': study_instance_uid,\n",
    "            'FilePath': file_path\n",
    "        })\n",
    "\n",
    "    # Creating a DataFrame from the list\n",
    "    dicom_df = pd.DataFrame(dicom_list, columns=['PatientID', 'StudyInstanceUID', 'FilePath'])\n",
    "\n",
    "    # Create a folder to store the data if it doesn't exist\n",
    "    if not os.path.exists(os.path.join(output_folder, 'CathEF_Prospective')):\n",
    "        os.makedirs(os.path.join(output_folder, 'CathEF_Prospective'))\n",
    "\n",
    "    # Saving the DataFrame to a CSV file in the CathEF_Prospective folder\n",
    "    output_path = os.path.join(output_folder, 'CathEF_Prospective', 'dicom_data.csv')\n",
    "    dicom_df.to_csv(output_path, index=False)\n",
    "\n",
    "    return dicom_df\n"
   ]
  },
  {
   "cell_type": "code",
   "execution_count": 16,
   "id": "f00b9d3d",
   "metadata": {},
   "outputs": [
    {
     "name": "stdout",
     "output_type": "stream",
     "text": [
      "5119\n"
     ]
    },
    {
     "name": "stderr",
     "output_type": "stream",
     "text": [
      "Scanning DICOMs: 100%|██████████| 5119/5119 [01:46<00:00, 48.17it/s] \n"
     ]
    }
   ],
   "source": [
    "\n",
    "# Using the function\n",
    "root_folder = '/media/data1/ravram/CathEF_Prospective'\n",
    "dicom_df = scan_dicoms_and_append_to_dataframe(root_folder)\n"
   ]
  },
  {
   "cell_type": "code",
   "execution_count": 23,
   "id": "d6ad58f2",
   "metadata": {},
   "outputs": [
    {
     "name": "stdout",
     "output_type": "stream",
     "text": [
      "False\n"
     ]
    }
   ],
   "source": [
    "output_folder = \".\"\n",
    "print(os.path.exists(os.path.join(output_folder, 'CathEF_Prospective')))"
   ]
  },
  {
   "cell_type": "code",
   "execution_count": 25,
   "id": "66b5a0fd",
   "metadata": {},
   "outputs": [],
   "source": [
    "#dicom_df.to_csv('../Oread/data/CathEF_Prospective/CathEF_inference-20210803-20230803_dicom_data.csv')"
   ]
  },
  {
   "cell_type": "code",
   "execution_count": null,
   "id": "6efd063a",
   "metadata": {},
   "outputs": [],
   "source": []
  }
 ],
 "metadata": {
  "kernelspec": {
   "display_name": "Python 3 (ipykernel)",
   "language": "python",
   "name": "python3"
  },
  "language_info": {
   "codemirror_mode": {
    "name": "ipython",
    "version": 3
   },
   "file_extension": ".py",
   "mimetype": "text/x-python",
   "name": "python",
   "nbconvert_exporter": "python",
   "pygments_lexer": "ipython3",
   "version": "3.8.15"
  }
 },
 "nbformat": 4,
 "nbformat_minor": 5
}

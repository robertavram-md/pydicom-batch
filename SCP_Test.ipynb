{
 "cells": [
  {
   "cell_type": "code",
   "execution_count": 13,
   "metadata": {},
   "outputs": [
    {
     "name": "stderr",
     "output_type": "stream",
     "text": [
      "I: Requesting Association\n",
      "D: Request Parameters:\n",
      "D: ======================= OUTGOING A-ASSOCIATE-RQ PDU ========================\n",
      "D: Our Implementation Class UID:      1.2.826.0.1.3680043.9.3811.1.5.7\n",
      "D: Our Implementation Version Name:   PYNETDICOM_157\n",
      "D: Application Context Name:    1.2.840.10008.3.1.1.1\n",
      "D: Calling Application Name:    PYNETDICOM      \n",
      "D: Called Application Name:     ANY-SCP         \n",
      "D: Our Max PDU Receive Size:    16382\n",
      "D: Presentation Context:\n",
      "D:   Context ID:        1 (Proposed)\n",
      "D:     Abstract Syntax: =Verification SOP Class\n",
      "D:     Proposed SCP/SCU Role: Default\n",
      "D:     Proposed Transfer Syntaxes:\n",
      "D:       =Implicit VR Little Endian\n",
      "D:       =Explicit VR Little Endian\n",
      "D:       =Deflated Explicit VR Little Endian\n",
      "D:       =Explicit VR Big Endian\n",
      "D: Requested Extended Negotiation: None\n",
      "D: Requested Common Extended Negotiation: None\n",
      "D: Requested Asynchronous Operations Window Negotiation: None\n",
      "D: Requested User Identity Negotiation: None\n",
      "D: ========================== END A-ASSOCIATE-RQ PDU ==========================\n",
      "D: Accept Parameters:\n",
      "D: ======================= INCOMING A-ASSOCIATE-AC PDU ========================\n",
      "D: Their Implementation Class UID:    1.2.826.0.1.3680043.9.3811.1.5.7\n",
      "D: Their Implementation Version Name: PYNETDICOM_157\n",
      "D: Application Context Name:    1.2.840.10008.3.1.1.1\n",
      "D: Calling Application Name:    PYNETDICOM      \n",
      "D: Called Application Name:     ANY-SCP         \n",
      "D: Their Max PDU Receive Size:  16382\n",
      "D: Presentation Contexts:\n",
      "D:   Context ID:        1 (Rejected - Abstract Syntax Not Supported)\n",
      "D:     Abstract Syntax: =Verification SOP Class\n",
      "D: Accepted Extended Negotiation: None\n",
      "D: Accepted Asynchronous Operations Window Negotiation: None\n",
      "D: User Identity Negotiation Response: None\n",
      "D: ========================== END A-ASSOCIATE-AC PDU ==========================\n",
      "E: No accepted presentation contexts\n",
      "D: Abort Parameters:\n",
      "D: =========================== OUTGOING A-ABORT PDU ===========================\n",
      "D: Abort Source: DUL service-provider\n",
      "D: Abort Reason: No reason given\n",
      "D: ============================= END A-ABORT PDU ==============================\n"
     ]
    },
    {
     "name": "stdout",
     "output_type": "stream",
     "text": [
      "Failed to associate\n"
     ]
    }
   ],
   "source": [
    "from pynetdicom import AE\n",
    " \n",
    "    \n",
    "#This imports the AE class, creates a new AE instance, ae, then adds a single presentation context to it \n",
    "#using the add_requested_context() method. All association requests must contain at least one presentation context, and in this case we’ve added one that proposes the use of the verification service. \n",
    "#We’ll go into presentation contexts and how they’re used to define an association’s services a bit more later on.    \n",
    "ae = AE()\n",
    "ae.add_requested_context('1.2.840.10008.1.1')\n",
    "\n",
    "#Here we initiate the association negotiation by connecting to the IP address '127.0.0.1' \n",
    "#on port 11112 and sending an association request. \n",
    "#'127.0.0.1' (also known as 'localhost') is a special IP address that means this computer. \n",
    "#This should be the same IP address and port that you started the echoscp application on earlier, \n",
    "#so if you used a different port you should change this value accordingly.\n",
    "\n",
    "\n",
    "assoc = ae.associate('localhost', 4000)\n",
    "if assoc.is_established:\n",
    "    print('Association established with Echo SCP!')\n",
    "    assoc.release()\n",
    "else:\n",
    "    # Association rejected, aborted or never connected\n",
    "    print('Failed to associate')"
   ]
  },
  {
   "cell_type": "code",
   "execution_count": 12,
   "metadata": {},
   "outputs": [
    {
     "name": "stderr",
     "output_type": "stream",
     "text": [
      "I: Requesting Association\n",
      "D: Request Parameters:\n",
      "D: ======================= OUTGOING A-ASSOCIATE-RQ PDU ========================\n",
      "D: Our Implementation Class UID:      1.2.826.0.1.3680043.9.3811.1.5.7\n",
      "D: Our Implementation Version Name:   PYNETDICOM_157\n",
      "D: Application Context Name:    1.2.840.10008.3.1.1.1\n",
      "D: Calling Application Name:    PYNETDICOM      \n",
      "D: Called Application Name:     ANY-SCP         \n",
      "D: Our Max PDU Receive Size:    16382\n",
      "D: Presentation Context:\n",
      "D:   Context ID:        1 (Proposed)\n",
      "D:     Abstract Syntax: =Verification SOP Class\n",
      "D:     Proposed SCP/SCU Role: Default\n",
      "D:     Proposed Transfer Syntaxes:\n",
      "D:       =Implicit VR Little Endian\n",
      "D:       =Explicit VR Little Endian\n",
      "D:       =Deflated Explicit VR Little Endian\n",
      "D:       =Explicit VR Big Endian\n",
      "D: Requested Extended Negotiation: None\n",
      "D: Requested Common Extended Negotiation: None\n",
      "D: Requested Asynchronous Operations Window Negotiation: None\n",
      "D: Requested User Identity Negotiation: None\n",
      "D: ========================== END A-ASSOCIATE-RQ PDU ==========================\n",
      "D: Accept Parameters:\n",
      "D: ======================= INCOMING A-ASSOCIATE-AC PDU ========================\n",
      "D: Their Implementation Class UID:    1.2.826.0.1.3680043.9.3811.1.5.7\n",
      "D: Their Implementation Version Name: PYNETDICOM_157\n",
      "D: Application Context Name:    1.2.840.10008.3.1.1.1\n",
      "D: Calling Application Name:    PYNETDICOM      \n",
      "D: Called Application Name:     ANY-SCP         \n",
      "D: Their Max PDU Receive Size:  16382\n",
      "D: Presentation Contexts:\n",
      "D:   Context ID:        1 (Rejected - Abstract Syntax Not Supported)\n",
      "D:     Abstract Syntax: =Verification SOP Class\n",
      "D: Accepted Extended Negotiation: None\n",
      "D: Accepted Asynchronous Operations Window Negotiation: None\n",
      "D: User Identity Negotiation Response: None\n",
      "D: ========================== END A-ASSOCIATE-AC PDU ==========================\n",
      "E: No accepted presentation contexts\n",
      "D: Abort Parameters:\n",
      "D: =========================== OUTGOING A-ABORT PDU ===========================\n",
      "D: Abort Source: DUL service-provider\n",
      "D: Abort Reason: No reason given\n",
      "D: ============================= END A-ABORT PDU ==============================\n"
     ]
    }
   ],
   "source": [
    "from pynetdicom import AE, debug_logger\n",
    "debug_logger()\n",
    " \n",
    "ae = AE()\n",
    "ae.add_requested_context('1.2.840.10008.1.1')\n",
    "assoc = ae.associate('localhost', 4000)\n",
    "if assoc.is_established:\n",
    "     status = assoc.send_c_echo()\n",
    "     assoc.release()"
   ]
  },
  {
   "cell_type": "raw",
   "metadata": {},
   "source": [
    "The only thing we need to change is to include a call to send_c_echo(), which sends the C-ECHO request and returns a pydicom Dataset instance status. If we received a response to our C-ECHO request, then status will contain at least an (0000,0900) Status element containing the outcome of our request. If no response was received (due to a connection failure, a timeout, or because the association was aborted) then status will be an empty Dataset.\n",
    "\n",
    "The Status element value is a code that indicates the result of the C-ECHO request. Each service class has a bunch of defined status codes which are usually a mix of generic codes for each DIMSE message type and code values specific to the service class. For example, if you look at the API reference for send_c_store() you’ll see there are general C-STORE status codes, such as 0x0000 (Success), as well as service specific codes, such as 0xC000 (Failure - cannot understand) for the storage service. The API reference for each Association.send_* method contains a list of possible status codes and their meaning."
   ]
  },
  {
   "cell_type": "code",
   "execution_count": null,
   "metadata": {},
   "outputs": [],
   "source": []
  },
  {
   "cell_type": "code",
   "execution_count": null,
   "metadata": {},
   "outputs": [],
   "source": []
  }
 ],
 "metadata": {
  "kernelspec": {
   "display_name": "pydicom-batch",
   "language": "python",
   "name": "pydicom-batch"
  },
  "language_info": {
   "codemirror_mode": {
    "name": "ipython",
    "version": 3
   },
   "file_extension": ".py",
   "mimetype": "text/x-python",
   "name": "python",
   "nbconvert_exporter": "python",
   "pygments_lexer": "ipython3",
   "version": "3.8.15"
  }
 },
 "nbformat": 4,
 "nbformat_minor": 4
}
